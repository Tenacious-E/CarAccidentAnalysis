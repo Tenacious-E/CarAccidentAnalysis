{
 "cells": [
  {
   "cell_type": "code",
   "execution_count": 1,
   "metadata": {
    "collapsed": true
   },
   "outputs": [],
   "source": [
    "%matplotlib inline\n",
    "\n",
    "import numpy as np\n",
    "import pandas as pd\n",
    "import matplotlib.pyplot as plt\n",
    "import scipy.stats as stats\n",
    "\n",
    "# Always make it pretty.\n",
    "plt.style.use('ggplot')\n",
    "# Requests sends and recieves HTTP requests.\n",
    "import requests\n",
    "\n",
    "# Beautiful Soup parses HTML documents in python.\n",
    "from bs4 import BeautifulSoup\n",
    "import datetime"
   ]
  },
  {
   "cell_type": "code",
   "execution_count": 2,
   "metadata": {},
   "outputs": [],
   "source": [
    "file = pd.read_csv('data/Collisions.csv')"
   ]
  },
  {
   "cell_type": "code",
   "execution_count": 3,
   "metadata": {},
   "outputs": [
    {
     "data": {
      "text/plain": [
       "9492"
      ]
     },
     "execution_count": 3,
     "metadata": {},
     "output_type": "execute_result"
    }
   ],
   "source": [
    "file[file['SPEEDING'] == 'Y'].shape[0]\n",
    "#Number of Accidents with speeding involved"
   ]
  },
  {
   "cell_type": "code",
   "execution_count": 4,
   "metadata": {},
   "outputs": [
    {
     "data": {
      "text/plain": [
       "85"
      ]
     },
     "execution_count": 4,
     "metadata": {},
     "output_type": "execute_result"
    }
   ],
   "source": [
    "file[(file['SPEEDING'] == 'Y') & (file['FATALITIES'] > 0)].shape[0]"
   ]
  },
  {
   "cell_type": "code",
   "execution_count": 5,
   "metadata": {},
   "outputs": [
    {
     "data": {
      "text/plain": [
       "328"
      ]
     },
     "execution_count": 5,
     "metadata": {},
     "output_type": "execute_result"
    }
   ],
   "source": [
    "file[file['FATALITIES'] > 0].shape[0]"
   ]
  },
  {
   "cell_type": "code",
   "execution_count": 6,
   "metadata": {},
   "outputs": [
    {
     "name": "stdout",
     "output_type": "stream",
     "text": [
      "0\n"
     ]
    },
    {
     "data": {
      "text/plain": [
       "25721"
      ]
     },
     "execution_count": 6,
     "metadata": {},
     "output_type": "execute_result"
    }
   ],
   "source": [
    "print(file['INCDTTM'].isnull().sum())\n",
    "file['UNDERINFL'].isnull().sum()\n"
   ]
  },
  {
   "cell_type": "code",
   "execution_count": 7,
   "metadata": {},
   "outputs": [
    {
     "data": {
      "text/plain": [
       "9315"
      ]
     },
     "execution_count": 7,
     "metadata": {},
     "output_type": "execute_result"
    }
   ],
   "source": [
    "file[(file['UNDERINFL'] == 'Y') | (file['UNDERINFL'] == '1' )].shape[0]"
   ]
  },
  {
   "cell_type": "code",
   "execution_count": 8,
   "metadata": {
    "collapsed": true
   },
   "outputs": [],
   "source": [
    "file[file['SERIOUSINJURIES'] > 0].shape[0]\n",
    "file['UNDERINFL'].unique()\n",
    "drunkdracc = file[((file['UNDERINFL'] == 'Y') | (file['UNDERINFL'] == '1'))].shape[0]"
   ]
  },
  {
   "cell_type": "code",
   "execution_count": 9,
   "metadata": {},
   "outputs": [
    {
     "name": "stdout",
     "output_type": "stream",
     "text": [
      "drunk driving deaths / drunk driving accidents:  0.00966183574879227\n",
      "177568\n",
      "non drunk driving deaths / non drunk driving accidents:  0.001267120201838169\n",
      "0.0\n"
     ]
    }
   ],
   "source": [
    "infl = file[((file['UNDERINFL'] == 'Y') & (file['FATALITIES'] > 0) )| ((file['UNDERINFL'] == '1') & (file['FATALITIES'] > 0))].shape[0]\n",
    "\n",
    "\n",
    "underinflratio = infl / file[file['FATALITIES'] > 0 ].shape[0]\n",
    "\n",
    "noninfl = file[((file['UNDERINFL'] == 'N') & (file['FATALITIES'] > 0) )| ((file['UNDERINFL'] == '0') & (file['FATALITIES'] > 0))].shape[0]\n",
    "\n",
    "noninfluratio = noninfl / file[file['FATALITIES'] > 0].shape[0]\n",
    "#print(noninfluratio)\n",
    "#print(underinflratio)\n",
    "#print(file[(file['FATALITIES'] > 0) & (file['ADDRTYPE'] == 'Block')].shape[0])\n",
    "#print(file[(file['FATALITIES'] > 0) & (file['ADDRTYPE'] == 'Intersection')].shape[0])\n",
    "#print(file[(file['FATALITIES'] > 0) & (file['LIGHTCOND'] == 'Daylight')].shape[0])\n",
    "print('drunk driving deaths / drunk driving accidents: ',(infl/drunkdracc))\n",
    "nondrunkdrivingacccsdeath = file[((file['UNDERINFL'] == 'N') & (file['FATALITIES'] > 0) )| ((file['UNDERINFL'] == '0') & (file['FATALITIES'] > 0))].shape[0]\n",
    "nondrunkdrivingacc = file[(file['UNDERINFL'] == 'N') | (file['UNDERINFL'] == '0')].shape[0]\n",
    "print(nondrunkdrivingacc)\n",
    "print('non drunk driving deaths / non drunk driving accidents: ',(nondrunkdrivingacccsdeath/nondrunkdrivingacc))\n",
    "denominator = drunkdracc * nondrunkdrivingacc \n",
    "numerator = drunkdracc + nondrunkdrivingacc\n",
    "shared_sample_freq = (nondrunkdrivingacccsdeath + infl) / denominator\n",
    "shared_sample_variance = numerator * (shared_sample_freq * (1 - shared_sample_freq)) / denominator\n",
    "difference_in_proportions = stats.norm(0, np.sqrt(shared_sample_variance))\n",
    "difference_in_sample_proportions = (nondrunkdrivingacccsdeath/nondrunkdrivingacc)/(infl/drunkdracc)\n",
    "\n",
    "p_value = 1 - difference_in_proportions.cdf(difference_in_sample_proportions)\n",
    "print(p_value)"
   ]
  },
  {
   "cell_type": "code",
   "execution_count": 10,
   "metadata": {},
   "outputs": [
    {
     "name": "stdout",
     "output_type": "stream",
     "text": [
      "0.14145516074450085\n",
      "serious injury driving accidents invoving drunk / drunk driving accidents:  0.04487385936661299\n",
      "serious injury driving accidents not involving drunk/ non drunk driving accidents:  0.014276220940710039\n"
     ]
    }
   ],
   "source": [
    "seriousinjury = file[((file['UNDERINFL'] == 'Y') & (file['SERIOUSINJURIES'] > 0) )| ((file['UNDERINFL'] == '1') & (file['SERIOUSINJURIES'] > 0))].shape[0]\n",
    "totalseriousinjury = file[file['SERIOUSINJURIES'] > 0].shape[0]\n",
    "seriousinjurynondrunk = file[((file['UNDERINFL'] == 'N') & (file['SERIOUSINJURIES'] > 0) )| ((file['UNDERINFL'] == '0') & (file['SERIOUSINJURIES'] > 0))].shape[0]\n",
    "print(seriousinjury/totalseriousinjury)\n",
    "print('serious injury driving accidents invoving drunk / drunk driving accidents: ',seriousinjury/drunkdracc)\n",
    "print('serious injury driving accidents not involving drunk/ non drunk driving accidents: ',seriousinjurynondrunk/nondrunkdrivingacc)"
   ]
  },
  {
   "cell_type": "code",
   "execution_count": 11,
   "metadata": {},
   "outputs": [
    {
     "name": "stdout",
     "output_type": "stream",
     "text": [
      "0.06567435901758172\n",
      "0.41825013419216317\n",
      "0.3051563344746801\n"
     ]
    }
   ],
   "source": [
    "injury = file[((file['UNDERINFL'] == 'Y') & (file['INJURIES'] > 0) )| ((file['UNDERINFL'] == '1') & (file['INJURIES'] > 0))].shape[0]\n",
    "injurynondrunk = file[((file['UNDERINFL'] == 'N') & (file['INJURIES'] > 0) )| ((file['UNDERINFL'] == '0') & (file['INJURIES'] > 0))].shape[0]\n",
    "totalinjury = file[file['INJURIES'] > 0].shape[0]\n",
    "print(injury/totalinjury)\n",
    "print(injury/drunkdracc)\n",
    "print(injurynondrunk/nondrunkdrivingacc)"
   ]
  },
  {
   "cell_type": "code",
   "execution_count": 12,
   "metadata": {},
   "outputs": [
    {
     "name": "stdout",
     "output_type": "stream",
     "text": [
      "car accidents involving drunk driver that injury someone 3896\n",
      "car accidents involving non drunk driver that injury someone 54186\n",
      "car accidents involving drunk driver 9315\n",
      "car accidents involving sober driver 177568\n"
     ]
    }
   ],
   "source": [
    "print('car accidents involving drunk driver that injury someone',injury)\n",
    "print('car accidents involving non drunk driver that injury someone',injurynondrunk)\n",
    "print('car accidents involving drunk driver',drunkdracc)\n",
    "print('car accidents involving sober driver',nondrunkdrivingacc)\n",
    "denominator = drunkdracc * nondrunkdrivingacc \n",
    "numerator = drunkdracc + nondrunkdrivingacc"
   ]
  },
  {
   "cell_type": "code",
   "execution_count": 13,
   "metadata": {},
   "outputs": [
    {
     "name": "stdout",
     "output_type": "stream",
     "text": [
      "115\n",
      "191\n",
      "823\n",
      "2050\n",
      "6673\n",
      "50121\n"
     ]
    }
   ],
   "source": [
    "\n",
    "#file['ST_COLCODE'] = pd.to_numeric(file[file.ST_COLCODE.notnull()])\n",
    "file['ST_COLCODE'] = pd.to_numeric(file['ST_COLCODE'],errors = 'coerce')\n",
    "print(file[(file['FATALITIES'] > 0) & (file['ST_COLCODE'] >= 0) & (file['ST_COLCODE'] <= 5)].groupby('ST_COLCODE').count()['X'].sum())\n",
    "print(file[(file['FATALITIES'] > 0) & (file['ST_COLCODE'] >= 10)].groupby('ST_COLCODE').count()['X'].sum())\n",
    "print(file[(file['SERIOUSINJURIES'] > 0) & (file['ST_COLCODE'] >= 0) & (file['ST_COLCODE'] <= 5)].groupby('ST_COLCODE').count()['X'].sum())\n",
    "print(file[(file['SERIOUSINJURIES'] > 0) & (file['ST_COLCODE'] >= 10)].groupby('ST_COLCODE').count()['X'].sum())\n",
    "print(file[(file['INJURIES'] > 0) & (file['ST_COLCODE'] >= 0) & (file['ST_COLCODE'] <= 5)].groupby('ST_COLCODE').count()['X'].sum())\n",
    "print(file[(file['INJURIES'] > 0) & (file['ST_COLCODE'] >= 10)].groupby('ST_COLCODE').count()['X'].sum())"
   ]
  },
  {
   "cell_type": "code",
   "execution_count": null,
   "metadata": {},
   "outputs": [],
   "source": []
  },
  {
   "cell_type": "code",
   "execution_count": null,
   "metadata": {},
   "outputs": [],
   "source": []
  },
  {
   "cell_type": "code",
   "execution_count": null,
   "metadata": {},
   "outputs": [],
   "source": []
  },
  {
   "cell_type": "code",
   "execution_count": 15,
   "metadata": {
    "scrolled": true
   },
   "outputs": [
    {
     "data": {
      "text/html": [
       "<div>\n",
       "<style>\n",
       "    .dataframe thead tr:only-child th {\n",
       "        text-align: right;\n",
       "    }\n",
       "\n",
       "    .dataframe thead th {\n",
       "        text-align: left;\n",
       "    }\n",
       "\n",
       "    .dataframe tbody tr th {\n",
       "        vertical-align: top;\n",
       "    }\n",
       "</style>\n",
       "<table border=\"1\" class=\"dataframe\">\n",
       "  <thead>\n",
       "    <tr style=\"text-align: right;\">\n",
       "      <th></th>\n",
       "      <th>X</th>\n",
       "      <th>Y</th>\n",
       "      <th>state</th>\n",
       "    </tr>\n",
       "  </thead>\n",
       "  <tbody>\n",
       "    <tr>\n",
       "      <th>0</th>\n",
       "      <td>-122.270834</td>\n",
       "      <td>47.539355</td>\n",
       "      <td>WA</td>\n",
       "    </tr>\n",
       "    <tr>\n",
       "      <th>1</th>\n",
       "      <td>-122.306332</td>\n",
       "      <td>47.606167</td>\n",
       "      <td>WA</td>\n",
       "    </tr>\n",
       "    <tr>\n",
       "      <th>2</th>\n",
       "      <td>-122.269611</td>\n",
       "      <td>47.516849</td>\n",
       "      <td>WA</td>\n",
       "    </tr>\n",
       "    <tr>\n",
       "      <th>3</th>\n",
       "      <td>-122.307505</td>\n",
       "      <td>47.612898</td>\n",
       "      <td>WA</td>\n",
       "    </tr>\n",
       "    <tr>\n",
       "      <th>4</th>\n",
       "      <td>-122.312430</td>\n",
       "      <td>47.708528</td>\n",
       "      <td>WA</td>\n",
       "    </tr>\n",
       "    <tr>\n",
       "      <th>5</th>\n",
       "      <td>-122.328079</td>\n",
       "      <td>47.604161</td>\n",
       "      <td>WA</td>\n",
       "    </tr>\n",
       "    <tr>\n",
       "      <th>6</th>\n",
       "      <td>-122.368598</td>\n",
       "      <td>47.670894</td>\n",
       "      <td>WA</td>\n",
       "    </tr>\n",
       "    <tr>\n",
       "      <th>7</th>\n",
       "      <td>-122.344507</td>\n",
       "      <td>47.687665</td>\n",
       "      <td>WA</td>\n",
       "    </tr>\n",
       "    <tr>\n",
       "      <th>8</th>\n",
       "      <td>-122.334266</td>\n",
       "      <td>47.733225</td>\n",
       "      <td>WA</td>\n",
       "    </tr>\n",
       "    <tr>\n",
       "      <th>9</th>\n",
       "      <td>-122.380504</td>\n",
       "      <td>47.672365</td>\n",
       "      <td>WA</td>\n",
       "    </tr>\n",
       "    <tr>\n",
       "      <th>10</th>\n",
       "      <td>-122.309476</td>\n",
       "      <td>47.664876</td>\n",
       "      <td>WA</td>\n",
       "    </tr>\n",
       "    <tr>\n",
       "      <th>11</th>\n",
       "      <td>-122.280463</td>\n",
       "      <td>47.634129</td>\n",
       "      <td>WA</td>\n",
       "    </tr>\n",
       "    <tr>\n",
       "      <th>12</th>\n",
       "      <td>-122.325489</td>\n",
       "      <td>47.672548</td>\n",
       "      <td>WA</td>\n",
       "    </tr>\n",
       "    <tr>\n",
       "      <th>13</th>\n",
       "      <td>-122.335586</td>\n",
       "      <td>47.603982</td>\n",
       "      <td>WA</td>\n",
       "    </tr>\n",
       "    <tr>\n",
       "      <th>14</th>\n",
       "      <td>-122.291988</td>\n",
       "      <td>47.722732</td>\n",
       "      <td>WA</td>\n",
       "    </tr>\n",
       "    <tr>\n",
       "      <th>15</th>\n",
       "      <td>-122.307505</td>\n",
       "      <td>47.612898</td>\n",
       "      <td>WA</td>\n",
       "    </tr>\n",
       "    <tr>\n",
       "      <th>16</th>\n",
       "      <td>-122.294697</td>\n",
       "      <td>47.720185</td>\n",
       "      <td>WA</td>\n",
       "    </tr>\n",
       "    <tr>\n",
       "      <th>17</th>\n",
       "      <td>-122.325139</td>\n",
       "      <td>47.609338</td>\n",
       "      <td>WA</td>\n",
       "    </tr>\n",
       "    <tr>\n",
       "      <th>18</th>\n",
       "      <td>-122.359586</td>\n",
       "      <td>47.659583</td>\n",
       "      <td>WA</td>\n",
       "    </tr>\n",
       "    <tr>\n",
       "      <th>19</th>\n",
       "      <td>-122.293113</td>\n",
       "      <td>47.546179</td>\n",
       "      <td>WA</td>\n",
       "    </tr>\n",
       "    <tr>\n",
       "      <th>20</th>\n",
       "      <td>-122.323966</td>\n",
       "      <td>47.606374</td>\n",
       "      <td>WA</td>\n",
       "    </tr>\n",
       "    <tr>\n",
       "      <th>21</th>\n",
       "      <td>-122.334695</td>\n",
       "      <td>47.539893</td>\n",
       "      <td>WA</td>\n",
       "    </tr>\n",
       "    <tr>\n",
       "      <th>22</th>\n",
       "      <td>-122.333368</td>\n",
       "      <td>47.617329</td>\n",
       "      <td>WA</td>\n",
       "    </tr>\n",
       "    <tr>\n",
       "      <th>23</th>\n",
       "      <td>-122.307487</td>\n",
       "      <td>47.592295</td>\n",
       "      <td>WA</td>\n",
       "    </tr>\n",
       "    <tr>\n",
       "      <th>24</th>\n",
       "      <td>-122.344353</td>\n",
       "      <td>47.613271</td>\n",
       "      <td>WA</td>\n",
       "    </tr>\n",
       "    <tr>\n",
       "      <th>25</th>\n",
       "      <td>-122.319645</td>\n",
       "      <td>47.597509</td>\n",
       "      <td>WA</td>\n",
       "    </tr>\n",
       "    <tr>\n",
       "      <th>26</th>\n",
       "      <td>-122.347420</td>\n",
       "      <td>47.615085</td>\n",
       "      <td>WA</td>\n",
       "    </tr>\n",
       "    <tr>\n",
       "      <th>27</th>\n",
       "      <td>-122.348226</td>\n",
       "      <td>47.624563</td>\n",
       "      <td>WA</td>\n",
       "    </tr>\n",
       "    <tr>\n",
       "      <th>28</th>\n",
       "      <td>-122.301424</td>\n",
       "      <td>47.566103</td>\n",
       "      <td>WA</td>\n",
       "    </tr>\n",
       "    <tr>\n",
       "      <th>29</th>\n",
       "      <td>-122.334212</td>\n",
       "      <td>47.549380</td>\n",
       "      <td>WA</td>\n",
       "    </tr>\n",
       "    <tr>\n",
       "      <th>...</th>\n",
       "      <td>...</td>\n",
       "      <td>...</td>\n",
       "      <td>...</td>\n",
       "    </tr>\n",
       "    <tr>\n",
       "      <th>71</th>\n",
       "      <td>NaN</td>\n",
       "      <td>NaN</td>\n",
       "      <td>WA</td>\n",
       "    </tr>\n",
       "    <tr>\n",
       "      <th>72</th>\n",
       "      <td>-122.312639</td>\n",
       "      <td>47.658308</td>\n",
       "      <td>WA</td>\n",
       "    </tr>\n",
       "    <tr>\n",
       "      <th>73</th>\n",
       "      <td>-122.305539</td>\n",
       "      <td>47.588076</td>\n",
       "      <td>WA</td>\n",
       "    </tr>\n",
       "    <tr>\n",
       "      <th>74</th>\n",
       "      <td>-122.319641</td>\n",
       "      <td>47.597082</td>\n",
       "      <td>WA</td>\n",
       "    </tr>\n",
       "    <tr>\n",
       "      <th>75</th>\n",
       "      <td>-122.285281</td>\n",
       "      <td>47.545694</td>\n",
       "      <td>WA</td>\n",
       "    </tr>\n",
       "    <tr>\n",
       "      <th>76</th>\n",
       "      <td>-122.323438</td>\n",
       "      <td>47.616364</td>\n",
       "      <td>WA</td>\n",
       "    </tr>\n",
       "    <tr>\n",
       "      <th>77</th>\n",
       "      <td>-122.363032</td>\n",
       "      <td>47.548385</td>\n",
       "      <td>WA</td>\n",
       "    </tr>\n",
       "    <tr>\n",
       "      <th>78</th>\n",
       "      <td>-122.320739</td>\n",
       "      <td>47.602195</td>\n",
       "      <td>WA</td>\n",
       "    </tr>\n",
       "    <tr>\n",
       "      <th>79</th>\n",
       "      <td>-122.320760</td>\n",
       "      <td>47.611169</td>\n",
       "      <td>WA</td>\n",
       "    </tr>\n",
       "    <tr>\n",
       "      <th>80</th>\n",
       "      <td>-122.347621</td>\n",
       "      <td>47.618571</td>\n",
       "      <td>WA</td>\n",
       "    </tr>\n",
       "    <tr>\n",
       "      <th>81</th>\n",
       "      <td>-122.350022</td>\n",
       "      <td>47.571671</td>\n",
       "      <td>WA</td>\n",
       "    </tr>\n",
       "    <tr>\n",
       "      <th>82</th>\n",
       "      <td>-122.321592</td>\n",
       "      <td>47.601702</td>\n",
       "      <td>WA</td>\n",
       "    </tr>\n",
       "    <tr>\n",
       "      <th>83</th>\n",
       "      <td>-122.312857</td>\n",
       "      <td>47.599218</td>\n",
       "      <td>WA</td>\n",
       "    </tr>\n",
       "    <tr>\n",
       "      <th>84</th>\n",
       "      <td>-122.301414</td>\n",
       "      <td>47.660391</td>\n",
       "      <td>WA</td>\n",
       "    </tr>\n",
       "    <tr>\n",
       "      <th>85</th>\n",
       "      <td>-122.346263</td>\n",
       "      <td>47.624988</td>\n",
       "      <td>WA</td>\n",
       "    </tr>\n",
       "    <tr>\n",
       "      <th>86</th>\n",
       "      <td>-122.363143</td>\n",
       "      <td>47.629166</td>\n",
       "      <td>WA</td>\n",
       "    </tr>\n",
       "    <tr>\n",
       "      <th>87</th>\n",
       "      <td>-122.362931</td>\n",
       "      <td>47.556356</td>\n",
       "      <td>WA</td>\n",
       "    </tr>\n",
       "    <tr>\n",
       "      <th>88</th>\n",
       "      <td>-122.317553</td>\n",
       "      <td>47.686732</td>\n",
       "      <td>WA</td>\n",
       "    </tr>\n",
       "    <tr>\n",
       "      <th>89</th>\n",
       "      <td>-122.325510</td>\n",
       "      <td>47.613533</td>\n",
       "      <td>WA</td>\n",
       "    </tr>\n",
       "    <tr>\n",
       "      <th>90</th>\n",
       "      <td>-122.370767</td>\n",
       "      <td>47.568425</td>\n",
       "      <td>WA</td>\n",
       "    </tr>\n",
       "    <tr>\n",
       "      <th>91</th>\n",
       "      <td>-122.380092</td>\n",
       "      <td>47.562873</td>\n",
       "      <td>WA</td>\n",
       "    </tr>\n",
       "    <tr>\n",
       "      <th>92</th>\n",
       "      <td>-122.322305</td>\n",
       "      <td>47.675109</td>\n",
       "      <td>WA</td>\n",
       "    </tr>\n",
       "    <tr>\n",
       "      <th>93</th>\n",
       "      <td>-122.305743</td>\n",
       "      <td>47.556568</td>\n",
       "      <td>WA</td>\n",
       "    </tr>\n",
       "    <tr>\n",
       "      <th>94</th>\n",
       "      <td>-122.358697</td>\n",
       "      <td>47.620948</td>\n",
       "      <td>WA</td>\n",
       "    </tr>\n",
       "    <tr>\n",
       "      <th>95</th>\n",
       "      <td>-122.313277</td>\n",
       "      <td>47.655669</td>\n",
       "      <td>WA</td>\n",
       "    </tr>\n",
       "    <tr>\n",
       "      <th>96</th>\n",
       "      <td>-122.285051</td>\n",
       "      <td>47.567923</td>\n",
       "      <td>WA</td>\n",
       "    </tr>\n",
       "    <tr>\n",
       "      <th>97</th>\n",
       "      <td>-122.308789</td>\n",
       "      <td>47.679432</td>\n",
       "      <td>WA</td>\n",
       "    </tr>\n",
       "    <tr>\n",
       "      <th>98</th>\n",
       "      <td>-122.300610</td>\n",
       "      <td>47.667121</td>\n",
       "      <td>WA</td>\n",
       "    </tr>\n",
       "    <tr>\n",
       "      <th>99</th>\n",
       "      <td>-122.333430</td>\n",
       "      <td>47.608336</td>\n",
       "      <td>WA</td>\n",
       "    </tr>\n",
       "    <tr>\n",
       "      <th>100</th>\n",
       "      <td>-122.335124</td>\n",
       "      <td>47.582939</td>\n",
       "      <td>WA</td>\n",
       "    </tr>\n",
       "  </tbody>\n",
       "</table>\n",
       "<p>101 rows × 3 columns</p>\n",
       "</div>"
      ],
      "text/plain": [
       "              X          Y state\n",
       "0   -122.270834  47.539355    WA\n",
       "1   -122.306332  47.606167    WA\n",
       "2   -122.269611  47.516849    WA\n",
       "3   -122.307505  47.612898    WA\n",
       "4   -122.312430  47.708528    WA\n",
       "5   -122.328079  47.604161    WA\n",
       "6   -122.368598  47.670894    WA\n",
       "7   -122.344507  47.687665    WA\n",
       "8   -122.334266  47.733225    WA\n",
       "9   -122.380504  47.672365    WA\n",
       "10  -122.309476  47.664876    WA\n",
       "11  -122.280463  47.634129    WA\n",
       "12  -122.325489  47.672548    WA\n",
       "13  -122.335586  47.603982    WA\n",
       "14  -122.291988  47.722732    WA\n",
       "15  -122.307505  47.612898    WA\n",
       "16  -122.294697  47.720185    WA\n",
       "17  -122.325139  47.609338    WA\n",
       "18  -122.359586  47.659583    WA\n",
       "19  -122.293113  47.546179    WA\n",
       "20  -122.323966  47.606374    WA\n",
       "21  -122.334695  47.539893    WA\n",
       "22  -122.333368  47.617329    WA\n",
       "23  -122.307487  47.592295    WA\n",
       "24  -122.344353  47.613271    WA\n",
       "25  -122.319645  47.597509    WA\n",
       "26  -122.347420  47.615085    WA\n",
       "27  -122.348226  47.624563    WA\n",
       "28  -122.301424  47.566103    WA\n",
       "29  -122.334212  47.549380    WA\n",
       "..          ...        ...   ...\n",
       "71          NaN        NaN    WA\n",
       "72  -122.312639  47.658308    WA\n",
       "73  -122.305539  47.588076    WA\n",
       "74  -122.319641  47.597082    WA\n",
       "75  -122.285281  47.545694    WA\n",
       "76  -122.323438  47.616364    WA\n",
       "77  -122.363032  47.548385    WA\n",
       "78  -122.320739  47.602195    WA\n",
       "79  -122.320760  47.611169    WA\n",
       "80  -122.347621  47.618571    WA\n",
       "81  -122.350022  47.571671    WA\n",
       "82  -122.321592  47.601702    WA\n",
       "83  -122.312857  47.599218    WA\n",
       "84  -122.301414  47.660391    WA\n",
       "85  -122.346263  47.624988    WA\n",
       "86  -122.363143  47.629166    WA\n",
       "87  -122.362931  47.556356    WA\n",
       "88  -122.317553  47.686732    WA\n",
       "89  -122.325510  47.613533    WA\n",
       "90  -122.370767  47.568425    WA\n",
       "91  -122.380092  47.562873    WA\n",
       "92  -122.322305  47.675109    WA\n",
       "93  -122.305743  47.556568    WA\n",
       "94  -122.358697  47.620948    WA\n",
       "95  -122.313277  47.655669    WA\n",
       "96  -122.285051  47.567923    WA\n",
       "97  -122.308789  47.679432    WA\n",
       "98  -122.300610  47.667121    WA\n",
       "99  -122.333430  47.608336    WA\n",
       "100 -122.335124  47.582939    WA\n",
       "\n",
       "[101 rows x 3 columns]"
      ]
     },
     "execution_count": 15,
     "metadata": {},
     "output_type": "execute_result"
    }
   ],
   "source": [
    "latlong= file.iloc[0:101,0:2]\n",
    "latlong['state'] = 'WA'\n",
    "latlong\n",
    "#trying to get all the zipcodes of data"
   ]
  },
  {
   "cell_type": "code",
   "execution_count": 17,
   "metadata": {},
   "outputs": [],
   "source": [
    "file2 = file.copy()\n",
    "file2['INCDTTM'].str.contains('AM|PM',regex=True)\n",
    "test2 =file2['INCDTTM']\n",
    "test3 =test2[file2['INCDTTM'].str.contains('AM|PM',regex=True)]"
   ]
  },
  {
   "cell_type": "code",
   "execution_count": 21,
   "metadata": {
    "collapsed": true
   },
   "outputs": [],
   "source": [
    "for idx, my_date in enumerate(test3):\n",
    "    test3.iloc[idx] = datetime.datetime.strptime(my_date,'%m/%d/%Y %I:%M:%S %p')"
   ]
  },
  {
   "cell_type": "code",
   "execution_count": 30,
   "metadata": {},
   "outputs": [
    {
     "data": {
      "text/plain": [
       "datetime.datetime(2019, 7, 29, 12, 26)"
      ]
     },
     "execution_count": 30,
     "metadata": {},
     "output_type": "execute_result"
    }
   ],
   "source": [
    "test3.max()"
   ]
  },
  {
   "cell_type": "code",
   "execution_count": 31,
   "metadata": {},
   "outputs": [
    {
     "data": {
      "text/plain": [
       "datetime.datetime(2004, 1, 10, 1, 27)"
      ]
     },
     "execution_count": 31,
     "metadata": {},
     "output_type": "execute_result"
    }
   ],
   "source": [
    "test3.min()"
   ]
  },
  {
   "cell_type": "code",
   "execution_count": 32,
   "metadata": {},
   "outputs": [],
   "source": [
    "url = 'https://api.darksky.net/forecast/'"
   ]
  },
  {
   "cell_type": "code",
   "execution_count": 47,
   "metadata": {},
   "outputs": [],
   "source": [
    "with open('data/dark_sky.txt', 'r') as file:\n",
    "    data = file.read().replace('\\n', '')\n",
    "key = "
   ]
  },
  {
   "cell_type": "code",
   "execution_count": 74,
   "metadata": {},
   "outputs": [],
   "source": [
    "latlong = '/47.6062,-122.3321,'\n",
    "##[YYYY]-[MM]-[DD]T[HH]:[MM]:[SS]\n",
    "time = '[2014]-[01]-[10]T[1]:[27]:[00]'\n",
    "time2 = '1389317220'\n",
    "exclude = '?exclude=flags'"
   ]
  },
  {
   "cell_type": "code",
   "execution_count": 75,
   "metadata": {},
   "outputs": [
    {
     "data": {
      "text/plain": [
       "'https://api.darksky.net/forecast/c9a626cef1e5d878b0588d229b7934c2/47.6062,-122.3321,1389317220'"
      ]
     },
     "execution_count": 75,
     "metadata": {},
     "output_type": "execute_result"
    }
   ],
   "source": [
    "finalurl= url+key+latlong+time2\n",
    "finalurl"
   ]
  },
  {
   "cell_type": "code",
   "execution_count": 76,
   "metadata": {
    "collapsed": true
   },
   "outputs": [],
   "source": [
    "r = requests.get(finalurl)"
   ]
  },
  {
   "cell_type": "code",
   "execution_count": 88,
   "metadata": {},
   "outputs": [
    {
     "data": {
      "text/plain": [
       "200"
      ]
     },
     "execution_count": 88,
     "metadata": {},
     "output_type": "execute_result"
    }
   ],
   "source": [
    "r.status_code"
   ]
  },
  {
   "cell_type": "code",
   "execution_count": 78,
   "metadata": {},
   "outputs": [
    {
     "data": {
      "text/plain": [
       "b'{\"latitude\":47.6062,\"longitude\":-122.3321,\"timezone\":\"America/Los_Angeles\",\"currently\":{\"time\":1389317220,\"summary\":\"Drizzle\",\"icon\":\"rain\",\"precipIntensity\":0.0136,\"precipProbability\":0.9,\"precipType\":\"rain\",\"temperature\":43.46,\"apparentTemperature\":41.09,\"dewPoint\":41.49,\"humidity\":0.93,\"pressure\":1007.56,\"windSpeed\":4.27,\"windGust\":8.67,\"windBearing\":150,\"cloudCover\":1,\"uvIndex\":0,\"visibility\":3.572},\"hourly\":{\"summary\":\"Drizzle in the afternoon and evening.\",\"icon\":\"rain\",\"data\":[{\"time\":1389254400,\"summary\":\"Partly Cloudy\",\"icon\":\"partly-cloudy-night\",\"precipIntensity\":0,\"precipProbability\":0,\"temperature\":44.98,\"apparentTemperature\":43.59,\"dewPoint\":41.41,\"humidity\":0.87,\"pressure\":1010.58,\"windSpeed\":3.41,\"windGust\":8.11,\"windBearing\":209,\"cloudCover\":0.47,\"uvIndex\":0,\"visibility\":10},{\"time\":1389258000,\"summary\":\"Partly Cloudy\",\"icon\":\"partly-cloudy-night\",\"precipIntensity\":0,\"precipProbability\":0,\"temperature\":44.31,\"apparentTemperature\":43.15,\"dewPoint\":40.29,\"humidity\":0.86,\"pressure\":1011.72,\"windSpeed\":3.09,\"windGust\":6.86,\"windBearing\":189,\"cloudCover\":0.38,\"uvIndex\":0,\"visibility\":10},{\"time\":1389261600,\"summary\":\"Mostly Cloudy\",\"icon\":\"partly-cloudy-night\",\"precipIntensity\":0,\"precipProbability\":0,\"temperature\":43.87,\"apparentTemperature\":43.87,\"dewPoint\":39.35,\"humidity\":0.84,\"pressure\":1012.83,\"windSpeed\":2.87,\"windGust\":6.11,\"windBearing\":193,\"cloudCover\":0.86,\"uvIndex\":0,\"visibility\":10},{\"time\":1389265200,\"summary\":\"Mostly Cloudy\",\"icon\":\"partly-cloudy-night\",\"precipIntensity\":0,\"precipProbability\":0,\"temperature\":43.25,\"apparentTemperature\":43.25,\"dewPoint\":39.05,\"humidity\":0.85,\"pressure\":1013.75,\"windSpeed\":2.42,\"windGust\":5.15,\"windBearing\":187,\"cloudCover\":0.56,\"uvIndex\":0,\"visibility\":10},{\"time\":1389268800,\"summary\":\"Partly Cloudy\",\"icon\":\"partly-cloudy-night\",\"precipIntensity\":0,\"precipProbability\":0,\"temperature\":42.71,\"apparentTemperature\":42.71,\"dewPoint\":38.73,\"humidity\":0.86,\"pressure\":1014.55,\"windSpeed\":2.4,\"windGust\":5.22,\"windBearing\":192,\"cloudCover\":0.47,\"uvIndex\":0,\"visibility\":10},{\"time\":1389272400,\"summary\":\"Partly Cloudy\",\"icon\":\"partly-cloudy-night\",\"precipIntensity\":0,\"precipProbability\":0,\"temperature\":41.82,\"apparentTemperature\":41.82,\"dewPoint\":37.99,\"humidity\":0.86,\"pressure\":1014.61,\"windSpeed\":2.16,\"windGust\":4.72,\"windBearing\":183,\"cloudCover\":0.48,\"uvIndex\":0,\"visibility\":10},{\"time\":1389276000,\"summary\":\"Partly Cloudy\",\"icon\":\"partly-cloudy-night\",\"precipIntensity\":0,\"precipProbability\":0,\"temperature\":41.24,\"apparentTemperature\":41.24,\"dewPoint\":37.75,\"humidity\":0.87,\"pressure\":1015.31,\"windSpeed\":2.2,\"windGust\":4.52,\"windBearing\":174,\"cloudCover\":0.3,\"uvIndex\":0,\"visibility\":10},{\"time\":1389279600,\"summary\":\"Partly Cloudy\",\"icon\":\"partly-cloudy-night\",\"precipIntensity\":0,\"precipProbability\":0,\"temperature\":41.21,\"apparentTemperature\":41.21,\"dewPoint\":37.83,\"humidity\":0.88,\"pressure\":1015.62,\"windSpeed\":2.34,\"windGust\":5.19,\"windBearing\":176,\"cloudCover\":0.24,\"uvIndex\":0,\"visibility\":10},{\"time\":1389283200,\"summary\":\"Mostly Cloudy\",\"icon\":\"partly-cloudy-night\",\"precipIntensity\":0,\"precipProbability\":0,\"temperature\":41.45,\"apparentTemperature\":41.45,\"dewPoint\":38.11,\"humidity\":0.88,\"pressure\":1015.61,\"windSpeed\":2.6,\"windGust\":5.96,\"windBearing\":165,\"cloudCover\":0.55,\"uvIndex\":0,\"visibility\":10},{\"time\":1389286800,\"summary\":\"Partly Cloudy\",\"icon\":\"partly-cloudy-day\",\"precipIntensity\":0,\"precipProbability\":0,\"temperature\":42.28,\"apparentTemperature\":40.59,\"dewPoint\":38.72,\"humidity\":0.87,\"pressure\":1015.9,\"windSpeed\":3.34,\"windGust\":6.7,\"windBearing\":166,\"cloudCover\":0.48,\"uvIndex\":0,\"visibility\":10},{\"time\":1389290400,\"summary\":\"Mostly Cloudy\",\"icon\":\"partly-cloudy-day\",\"precipIntensity\":0,\"precipProbability\":0,\"temperature\":43.29,\"apparentTemperature\":41.1,\"dewPoint\":39.49,\"humidity\":0.86,\"pressure\":1015.68,\"windSpeed\":4.02,\"windGust\":8.15,\"windBearing\":166,\"cloudCover\":0.86,\"uvIndex\":0,\"visibility\":10},{\"time\":1389294000,\"summary\":\"Overcast\",\"icon\":\"cloudy\",\"precipIntensity\":0,\"precipProbability\":0,\"temperature\":44.11,\"apparentTemperature\":42.43,\"dewPoint\":40.03,\"humidity\":0.85,\"pressure\":1015.53,\"windSpeed\":3.59,\"windGust\":7.84,\"windBearing\":175,\"cloudCover\":1,\"uvIndex\":1,\"visibility\":10},{\"time\":1389297600,\"summary\":\"Overcast\",\"icon\":\"cloudy\",\"precipIntensity\":0.0006,\"precipProbability\":0.22,\"precipType\":\"rain\",\"temperature\":44.26,\"apparentTemperature\":42.6,\"dewPoint\":40.36,\"humidity\":0.86,\"pressure\":1014.58,\"windSpeed\":3.59,\"windGust\":7.78,\"windBearing\":171,\"cloudCover\":1,\"uvIndex\":1,\"visibility\":10},{\"time\":1389301200,\"summary\":\"Drizzle\",\"icon\":\"rain\",\"precipIntensity\":0.0112,\"precipProbability\":0.82,\"precipType\":\"rain\",\"temperature\":43.82,\"apparentTemperature\":41.83,\"dewPoint\":40.34,\"humidity\":0.87,\"pressure\":1012.83,\"windSpeed\":3.89,\"windGust\":8.33,\"windBearing\":164,\"cloudCover\":1,\"uvIndex\":1,\"visibility\":10},{\"time\":1389304800,\"summary\":\"Drizzle\",\"icon\":\"rain\",\"precipIntensity\":0.0084,\"precipProbability\":0.71,\"precipType\":\"rain\",\"temperature\":43.83,\"apparentTemperature\":41.2,\"dewPoint\":40.64,\"humidity\":0.88,\"pressure\":1010.87,\"windSpeed\":4.69,\"windGust\":10.54,\"windBearing\":166,\"cloudCover\":1,\"uvIndex\":1,\"visibility\":10},{\"time\":1389308400,\"summary\":\"Possible Drizzle\",\"icon\":\"rain\",\"precipIntensity\":0.0058,\"precipProbability\":0.59,\"precipType\":\"rain\",\"temperature\":43.53,\"apparentTemperature\":41.34,\"dewPoint\":40.76,\"humidity\":0.9,\"pressure\":1009.5,\"windSpeed\":4.07,\"windGust\":8.93,\"windBearing\":155,\"cloudCover\":1,\"uvIndex\":0,\"visibility\":5.721},{\"time\":1389312000,\"summary\":\"Drizzle\",\"icon\":\"rain\",\"precipIntensity\":0.0149,\"precipProbability\":0.88,\"precipType\":\"rain\",\"temperature\":43.18,\"apparentTemperature\":41.43,\"dewPoint\":40.82,\"humidity\":0.91,\"pressure\":1008.72,\"windSpeed\":3.51,\"windGust\":7.79,\"windBearing\":157,\"cloudCover\":1,\"uvIndex\":0,\"visibility\":2.452},{\"time\":1389315600,\"summary\":\"Drizzle\",\"icon\":\"rain\",\"precipIntensity\":0.0139,\"precipProbability\":0.9,\"precipType\":\"rain\",\"temperature\":43.18,\"apparentTemperature\":41.34,\"dewPoint\":41.15,\"humidity\":0.92,\"pressure\":1008.01,\"windSpeed\":3.61,\"windGust\":7.45,\"windBearing\":143,\"cloudCover\":1,\"uvIndex\":0,\"visibility\":3.193},{\"time\":1389319200,\"summary\":\"Drizzle\",\"icon\":\"rain\",\"precipIntensity\":0.0133,\"precipProbability\":0.9,\"precipType\":\"rain\",\"temperature\":43.79,\"apparentTemperature\":40.88,\"dewPoint\":41.91,\"humidity\":0.93,\"pressure\":1007,\"windSpeed\":5.07,\"windGust\":10.17,\"windBearing\":157,\"cloudCover\":1,\"uvIndex\":0,\"visibility\":4.036},{\"time\":1389322800,\"summary\":\"Drizzle\",\"icon\":\"rain\",\"precipIntensity\":0.0072,\"precipProbability\":0.76,\"precipType\":\"rain\",\"temperature\":45.44,\"apparentTemperature\":42.49,\"dewPoint\":43.59,\"humidity\":0.93,\"pressure\":1006.92,\"windSpeed\":5.58,\"windGust\":11.89,\"windBearing\":181,\"cloudCover\":1,\"uvIndex\":0,\"visibility\":8.547},{\"time\":1389326400,\"summary\":\"Overcast\",\"icon\":\"cloudy\",\"precipIntensity\":0.0021,\"precipProbability\":0.26,\"precipType\":\"rain\",\"temperature\":46.7,\"apparentTemperature\":44.83,\"dewPoint\":44.26,\"humidity\":0.91,\"pressure\":1007.49,\"windSpeed\":4.3,\"windGust\":10,\"windBearing\":207,\"cloudCover\":1,\"uvIndex\":0,\"visibility\":10},{\"time\":1389330000,\"summary\":\"Overcast\",\"icon\":\"cloudy\",\"precipIntensity\":0.0005,\"precipProbability\":0.09,\"precipType\":\"rain\",\"temperature\":46.74,\"apparentTemperature\":45.12,\"dewPoint\":44.1,\"humidity\":0.9,\"pressure\":1008.53,\"windSpeed\":3.99,\"windGust\":8.85,\"windBearing\":213,\"cloudCover\":0.91,\"uvIndex\":0,\"visibility\":10},{\"time\":1389333600,\"summary\":\"Overcast\",\"icon\":\"cloudy\",\"precipIntensity\":0.0008,\"precipProbability\":0.12,\"precipType\":\"rain\",\"temperature\":46.57,\"apparentTemperature\":44.74,\"dewPoint\":43.82,\"humidity\":0.9,\"pressure\":1009.4,\"windSpeed\":4.21,\"windGust\":8.86,\"windBearing\":210,\"cloudCover\":1,\"uvIndex\":0,\"visibility\":10},{\"time\":1389337200,\"summary\":\"Overcast\",\"icon\":\"cloudy\",\"precipIntensity\":0.0007,\"precipProbability\":0.09,\"precipType\":\"rain\",\"temperature\":46.52,\"apparentTemperature\":44.39,\"dewPoint\":43.4,\"humidity\":0.89,\"pressure\":1010.04,\"windSpeed\":4.61,\"windGust\":9.57,\"windBearing\":208,\"cloudCover\":0.92,\"uvIndex\":0,\"visibility\":10}]},\"daily\":{\"data\":[{\"time\":1389254400,\"summary\":\"Drizzle in the afternoon and evening.\",\"icon\":\"rain\",\"sunriseTime\":1389283019,\"sunsetTime\":1389314304,\"moonPhase\":0.32,\"precipIntensity\":0.0033,\"precipIntensityMax\":0.0149,\"precipIntensityMaxTime\":1389312000,\"precipProbability\":0.9,\"precipType\":\"rain\",\"temperatureHigh\":45.44,\"temperatureHighTime\":1389322800,\"temperatureLow\":45.44,\"temperatureLowTime\":1389322800,\"apparentTemperatureHigh\":42.6,\"apparentTemperatureHighTime\":1389297600,\"apparentTemperatureLow\":42.49,\"apparentTemperatureLowTime\":1389322800,\"dewPoint\":40.58,\"humidity\":0.88,\"pressure\":1011.9,\"windSpeed\":3.56,\"windGust\":11.89,\"windGustTime\":1389322800,\"windBearing\":179,\"cloudCover\":0.77,\"uvIndex\":1,\"uvIndexTime\":1389297600,\"visibility\":8.915,\"temperatureMin\":41.21,\"temperatureMinTime\":1389279600,\"temperatureMax\":46.74,\"temperatureMaxTime\":1389330000,\"apparentTemperatureMin\":40.59,\"apparentTemperatureMinTime\":1389286800,\"apparentTemperatureMax\":45.12,\"apparentTemperatureMaxTime\":1389330000}]},\"flags\":{\"sources\":[\"cmc\",\"gfs\",\"hrrr\",\"icon\",\"isd\",\"madis\",\"nam\",\"sref\"],\"nearest-station\":0.133,\"units\":\"us\"},\"offset\":-8}\\n'"
      ]
     },
     "execution_count": 78,
     "metadata": {},
     "output_type": "execute_result"
    }
   ],
   "source": [
    "r.content"
   ]
  },
  {
   "cell_type": "code",
   "execution_count": null,
   "metadata": {
    "collapsed": true
   },
   "outputs": [],
   "source": []
  }
 ],
 "metadata": {
  "kernelspec": {
   "display_name": "Python 3",
   "language": "python",
   "name": "python3"
  },
  "language_info": {
   "codemirror_mode": {
    "name": "ipython",
    "version": 3
   },
   "file_extension": ".py",
   "mimetype": "text/x-python",
   "name": "python",
   "nbconvert_exporter": "python",
   "pygments_lexer": "ipython3",
   "version": "3.6.3"
  }
 },
 "nbformat": 4,
 "nbformat_minor": 2
}
