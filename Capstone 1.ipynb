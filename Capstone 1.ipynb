{
 "cells": [
  {
   "cell_type": "code",
   "execution_count": 21,
   "metadata": {
    "collapsed": true
   },
   "outputs": [],
   "source": [
    "%matplotlib inline\n",
    "\n",
    "import numpy as np\n",
    "import pandas as pd\n",
    "import matplotlib.pyplot as plt\n",
    "import scipy.stats as stats\n",
    "import json\n",
    "# Always make it pretty.\n",
    "plt.style.use('ggplot')\n",
    "# Requests sends and recieves HTTP requests.\n",
    "import requests\n",
    "\n",
    "# Beautiful Soup parses HTML documents in python.\n",
    "from bs4 import BeautifulSoup\n",
    "import datetime"
   ]
  },
  {
   "cell_type": "code",
   "execution_count": 22,
   "metadata": {
    "collapsed": true
   },
   "outputs": [],
   "source": [
    "file = pd.read_csv('data/Collisions.csv')"
   ]
  },
  {
   "cell_type": "code",
   "execution_count": 266,
   "metadata": {},
   "outputs": [
    {
     "name": "stdout",
     "output_type": "stream",
     "text": [
      "percentage of drunk driving accidents that result in a death:  0.966183574879\n",
      "percentage of NON-drunk driving accidents that result in a death:  0.126712020184\n"
     ]
    }
   ],
   "source": [
    "infl = file[((file['UNDERINFL'] == 'Y') & (file['FATALITIES'] > 0) )| ((file['UNDERINFL'] == '1') & (file['FATALITIES'] > 0))].shape[0]\n",
    "drunkdracc = sum((file['UNDERINFL'] == 'Y') | (file['UNDERINFL'] == '1'))\n",
    "print('percentage of drunk driving accidents that result in a death: ',(100*infl/drunkdracc))\n",
    "\n",
    "nondrunkdrivingacccsdeath = file[((file['UNDERINFL'] == 'N') & (file['FATALITIES'] > 0) )| ((file['UNDERINFL'] == '0') & (file['FATALITIES'] > 0))].shape[0]\n",
    "nondrunkdrivingacc = sum((file['UNDERINFL'] == 'N') | (file['UNDERINFL'] == '0'))\n",
    "print('percentage of NON-drunk driving accidents that result in a death: ',(100*nondrunkdrivingacccsdeath/nondrunkdrivingacc))\n"
   ]
  },
  {
   "cell_type": "code",
   "execution_count": 24,
   "metadata": {},
   "outputs": [
    {
     "name": "stdout",
     "output_type": "stream",
     "text": [
      "percentage of drunk driving accidents that result in serioius injuries:  4.487385936661299\n",
      "percentage of NON-drunk driving accidents that result in serious injuries:  1.4276220940710038\n"
     ]
    }
   ],
   "source": [
    "seriousinjury = file[((file['UNDERINFL'] == 'Y') & (file['SERIOUSINJURIES'] > 0) )| ((file['UNDERINFL'] == '1') & (file['SERIOUSINJURIES'] > 0))].shape[0]\n",
    "print('percentage of drunk driving accidents that result in serioius injuries: ',100*seriousinjury/drunkdracc)\n",
    "\n",
    "seriousinjurynondrunk = file[((file['UNDERINFL'] == 'N') & (file['SERIOUSINJURIES'] > 0) )| ((file['UNDERINFL'] == '0') & (file['SERIOUSINJURIES'] > 0))].shape[0]\n",
    "print('percentage of NON-drunk driving accidents that result in serious injuries: ',100* seriousinjurynondrunk/nondrunkdrivingacc)"
   ]
  },
  {
   "cell_type": "code",
   "execution_count": 25,
   "metadata": {},
   "outputs": [
    {
     "name": "stdout",
     "output_type": "stream",
     "text": [
      "percentage of drunk driving accidents that result in injuries 41.82501341921632\n",
      "percentage of NON-drunk driving accidents that result in injuries 30.51563344746801\n"
     ]
    }
   ],
   "source": [
    "injurydrunk = file[((file['UNDERINFL'] == 'Y') & (file['INJURIES'] > 0) )| ((file['UNDERINFL'] == '1') & (file['INJURIES'] > 0))].shape[0]\n",
    "injurynondrunk = file[((file['UNDERINFL'] == 'N') & (file['INJURIES'] > 0) )| ((file['UNDERINFL'] == '0') & (file['INJURIES'] > 0))].shape[0]\n",
    "print('percentage of drunk driving accidents that result in injuries',injurydrunk/drunkdracc*100)\n",
    "print('percentage of NON-drunk driving accidents that result in injuries',injurynondrunk/nondrunkdrivingacc*100)"
   ]
  },
  {
   "cell_type": "code",
   "execution_count": 268,
   "metadata": {},
   "outputs": [
    {
     "name": "stdout",
     "output_type": "stream",
     "text": [
      "percentage of fatalities that involve a pedestrian:  35.0609756098\n",
      "percentage of serious injuries that involve a pedestrian:  28.1895093063\n",
      "percentage of injuries that involve a pedestrian:  11.3598435683\n"
     ]
    }
   ],
   "source": [
    "file['ST_COLCODE'] = pd.to_numeric(file['ST_COLCODE'],errors = 'coerce')\n",
    "pedestrianfatalties = sum((file['FATALITIES'] > 0) & (file['ST_COLCODE'] >= 0) & (file['ST_COLCODE'] <= 5))\n",
    "nonpedestrianfatalities = sum((file['FATALITIES'] > 0) & (file['ST_COLCODE'] >= 10))\n",
    "fatalities = (file['FATALITIES'] > 0).sum()\n",
    "print('percentage of fatalities that involve a pedestrian: ',pedestrianfatalties/fatalities*100)\n",
    "\n",
    "pedstrianserious = ((file['SERIOUSINJURIES'] > 0) & (file['ST_COLCODE'] >= 0) & (file['ST_COLCODE'] <= 5)).sum()\n",
    "serioustotal = (file['SERIOUSINJURIES'] > 0).sum()\n",
    "print('percentage of serious injuries that involve a pedestrian: ',pedstrianserious/serioustotal*100)\n",
    "\n",
    "pedestrianinjuries =((file['INJURIES'] > 0) & (file['ST_COLCODE'] >= 0) & (file['ST_COLCODE'] <= 5)).sum()\n",
    "injuriestotal = (file['INJURIES'] > 0).sum()\n",
    "print('percentage of injuries that involve a pedestrian: ',pedestrianinjuries/injuriestotal*100)"
   ]
  },
  {
   "cell_type": "code",
   "execution_count": 27,
   "metadata": {},
   "outputs": [],
   "source": [
    "file2 = file.copy()"
   ]
  },
  {
   "cell_type": "code",
   "execution_count": 263,
   "metadata": {},
   "outputs": [],
   "source": [
    "file2.to_pickle('data/CollionsWDatetime.pkl.bz2', compression = 'bz2')"
   ]
  },
  {
   "cell_type": "code",
   "execution_count": 30,
   "metadata": {},
   "outputs": [],
   "source": [
    "def datetimeconversion(row):\n",
    "    try:\n",
    "        return datetime.datetime.strptime(row['INCDTTM'],'%m/%d/%Y %I:%M:%S %p')\n",
    "    except:\n",
    "        return datetime.datetime.strptime(row['INCDTTM'],'%m/%d/%Y')"
   ]
  },
  {
   "cell_type": "code",
   "execution_count": 31,
   "metadata": {},
   "outputs": [],
   "source": [
    "file2['INCDTTM']=file2.apply(datetimeconversion, axis=1)"
   ]
  },
  {
   "cell_type": "code",
   "execution_count": 32,
   "metadata": {
    "collapsed": true
   },
   "outputs": [],
   "source": [
    "def getweather():\n",
    "    url = 'https://api.darksky.net/forecast/'\n",
    "    with open('data/dark_sky.txt', 'r') as file:\n",
    "        key = file.read()\n",
    "    latlong = '/47.44472,-122.31361,'\n",
    "    for i in range(5683): #5682 is number of days from beg to end\n",
    "        time = 1389346020 + (i*24*60*60)\n",
    "        strtime = str(time)\n",
    "        finalurl= url+key+latlong+strtime\n",
    "        r = requests.get(finalurl)\n",
    "        dic = json.loads(r.content)\n",
    "        Weather.insert_one(dic)\n",
    " \n",
    "    "
   ]
  },
  {
   "cell_type": "code",
   "execution_count": 33,
   "metadata": {
    "collapsed": true
   },
   "outputs": [],
   "source": [
    "from pymongo import MongoClient\n",
    "import pprint"
   ]
  },
  {
   "cell_type": "code",
   "execution_count": 34,
   "metadata": {},
   "outputs": [],
   "source": [
    "client = MongoClient('localhost', 27017)\n",
    "db = client['WeatherDB']\n",
    "Weather = db['Weather']"
   ]
  },
  {
   "cell_type": "code",
   "execution_count": 35,
   "metadata": {},
   "outputs": [
    {
     "data": {
      "text/plain": [
       "{'_id': ObjectId('5d781b8d4cadcc23e8d2595a'),\n",
       " 'currently': {'apparentTemperature': 41.78,\n",
       "  'cloudCover': 0.75,\n",
       "  'dewPoint': 42.8,\n",
       "  'humidity': 0.9,\n",
       "  'icon': 'partly-cloudy-night',\n",
       "  'precipIntensity': 0,\n",
       "  'precipProbability': 0,\n",
       "  'pressure': 1012.59,\n",
       "  'summary': 'Mostly Cloudy',\n",
       "  'temperature': 45.55,\n",
       "  'time': 1389346020,\n",
       "  'uvIndex': 0,\n",
       "  'visibility': 10,\n",
       "  'windBearing': 202,\n",
       "  'windGust': 15.46,\n",
       "  'windSpeed': 7.1},\n",
       " 'daily': {'data': [{'apparentTemperatureHigh': 46.95,\n",
       "    'apparentTemperatureHighTime': 1389394800,\n",
       "    'apparentTemperatureLow': 39.39,\n",
       "    'apparentTemperatureLowTime': 1389456000,\n",
       "    'apparentTemperatureMax': 51.81,\n",
       "    'apparentTemperatureMaxTime': 1389423600,\n",
       "    'apparentTemperatureMin': 41.71,\n",
       "    'apparentTemperatureMinTime': 1389348000,\n",
       "    'cloudCover': 0.96,\n",
       "    'dewPoint': 42.57,\n",
       "    'humidity': 0.85,\n",
       "    'icon': 'rain',\n",
       "    'moonPhase': 0.35,\n",
       "    'precipIntensity': 0.0048,\n",
       "    'precipIntensityMax': 0.03,\n",
       "    'precipIntensityMaxTime': 1389409200,\n",
       "    'precipProbability': 1,\n",
       "    'precipType': 'rain',\n",
       "    'pressure': 1014.09,\n",
       "    'summary': 'Light rain until morning, starting again in the evening.',\n",
       "    'sunriseTime': 1389369352,\n",
       "    'sunsetTime': 1389400810,\n",
       "    'temperatureHigh': 48.22,\n",
       "    'temperatureHighTime': 1389391200,\n",
       "    'temperatureLow': 44.38,\n",
       "    'temperatureLowTime': 1389456000,\n",
       "    'temperatureMax': 51.81,\n",
       "    'temperatureMaxTime': 1389423600,\n",
       "    'temperatureMin': 45.44,\n",
       "    'temperatureMinTime': 1389348000,\n",
       "    'time': 1389340800,\n",
       "    'uvIndex': 1,\n",
       "    'uvIndexTime': 1389384000,\n",
       "    'visibility': 9.873,\n",
       "    'windBearing': 194,\n",
       "    'windGust': 20.73,\n",
       "    'windGustTime': 1389376800,\n",
       "    'windSpeed': 5.61}]},\n",
       " 'flags': {'nearest-station': 0.037,\n",
       "  'sources': ['cmc', 'gfs', 'hrrr', 'icon', 'isd', 'madis', 'nam', 'sref'],\n",
       "  'units': 'us'},\n",
       " 'hourly': {'data': [{'apparentTemperature': 41.82,\n",
       "    'cloudCover': 0.75,\n",
       "    'dewPoint': 42.8,\n",
       "    'humidity': 0.89,\n",
       "    'icon': 'partly-cloudy-night',\n",
       "    'precipIntensity': 0,\n",
       "    'precipProbability': 0,\n",
       "    'pressure': 1011.21,\n",
       "    'summary': 'Mostly Cloudy',\n",
       "    'temperature': 45.72,\n",
       "    'time': 1389340800,\n",
       "    'uvIndex': 0,\n",
       "    'visibility': 9.997,\n",
       "    'windBearing': 205,\n",
       "    'windGust': 14.25,\n",
       "    'windSpeed': 7.42},\n",
       "   {'apparentTemperature': 41.84,\n",
       "    'cloudCover': 0.75,\n",
       "    'dewPoint': 42.8,\n",
       "    'humidity': 0.9,\n",
       "    'icon': 'partly-cloudy-night',\n",
       "    'precipIntensity': 0,\n",
       "    'precipProbability': 0,\n",
       "    'pressure': 1012.09,\n",
       "    'summary': 'Mostly Cloudy',\n",
       "    'temperature': 45.65,\n",
       "    'time': 1389344400,\n",
       "    'uvIndex': 0,\n",
       "    'visibility': 10,\n",
       "    'windBearing': 206,\n",
       "    'windGust': 15.86,\n",
       "    'windSpeed': 7.21},\n",
       "   {'apparentTemperature': 41.71,\n",
       "    'cloudCover': 0.75,\n",
       "    'dewPoint': 42.8,\n",
       "    'humidity': 0.9,\n",
       "    'icon': 'partly-cloudy-night',\n",
       "    'precipIntensity': 0,\n",
       "    'precipProbability': 0,\n",
       "    'pressure': 1013.2,\n",
       "    'summary': 'Mostly Cloudy',\n",
       "    'temperature': 45.44,\n",
       "    'time': 1389348000,\n",
       "    'uvIndex': 0,\n",
       "    'visibility': 9.997,\n",
       "    'windBearing': 198,\n",
       "    'windGust': 14.96,\n",
       "    'windSpeed': 6.96},\n",
       "   {'apparentTemperature': 42.95,\n",
       "    'cloudCover': 0.75,\n",
       "    'dewPoint': 41,\n",
       "    'humidity': 0.81,\n",
       "    'icon': 'partly-cloudy-night',\n",
       "    'precipIntensity': 0,\n",
       "    'precipProbability': 0,\n",
       "    'pressure': 1014.39,\n",
       "    'summary': 'Mostly Cloudy',\n",
       "    'temperature': 46.42,\n",
       "    'time': 1389351600,\n",
       "    'uvIndex': 0,\n",
       "    'visibility': 9.997,\n",
       "    'windBearing': 199,\n",
       "    'windGust': 15.2,\n",
       "    'windSpeed': 6.86},\n",
       "   {'apparentTemperature': 42.74,\n",
       "    'cloudCover': 1,\n",
       "    'dewPoint': 42.8,\n",
       "    'humidity': 0.87,\n",
       "    'icon': 'cloudy',\n",
       "    'precipIntensity': 0,\n",
       "    'precipProbability': 0,\n",
       "    'pressure': 1015.42,\n",
       "    'summary': 'Overcast',\n",
       "    'temperature': 46.42,\n",
       "    'time': 1389355200,\n",
       "    'uvIndex': 0,\n",
       "    'visibility': 9.997,\n",
       "    'windBearing': 231,\n",
       "    'windGust': 15.41,\n",
       "    'windSpeed': 7.28},\n",
       "   {'apparentTemperature': 42.71,\n",
       "    'cloudCover': 1,\n",
       "    'dewPoint': 42.8,\n",
       "    'humidity': 0.87,\n",
       "    'icon': 'cloudy',\n",
       "    'precipIntensity': 0,\n",
       "    'precipProbability': 0,\n",
       "    'pressure': 1015.92,\n",
       "    'summary': 'Overcast',\n",
       "    'temperature': 46.42,\n",
       "    'time': 1389358800,\n",
       "    'uvIndex': 0,\n",
       "    'visibility': 9.997,\n",
       "    'windBearing': 217,\n",
       "    'windGust': 15.99,\n",
       "    'windSpeed': 7.34},\n",
       "   {'apparentTemperature': 42.81,\n",
       "    'cloudCover': 1,\n",
       "    'dewPoint': 41,\n",
       "    'humidity': 0.81,\n",
       "    'icon': 'cloudy',\n",
       "    'precipIntensity': 0,\n",
       "    'precipProbability': 0,\n",
       "    'pressure': 1016.5,\n",
       "    'summary': 'Overcast',\n",
       "    'temperature': 46.42,\n",
       "    'time': 1389362400,\n",
       "    'uvIndex': 0,\n",
       "    'visibility': 9.997,\n",
       "    'windBearing': 192,\n",
       "    'windGust': 15.66,\n",
       "    'windSpeed': 7.14},\n",
       "   {'apparentTemperature': 42.95,\n",
       "    'cloudCover': 1,\n",
       "    'dewPoint': 41,\n",
       "    'humidity': 0.81,\n",
       "    'icon': 'cloudy',\n",
       "    'precipIntensity': 0,\n",
       "    'precipProbability': 0,\n",
       "    'pressure': 1017.31,\n",
       "    'summary': 'Overcast',\n",
       "    'temperature': 46.42,\n",
       "    'time': 1389366000,\n",
       "    'uvIndex': 0,\n",
       "    'visibility': 9.997,\n",
       "    'windBearing': 191,\n",
       "    'windGust': 15.08,\n",
       "    'windSpeed': 6.86},\n",
       "   {'apparentTemperature': 43.12,\n",
       "    'cloudCover': 1,\n",
       "    'dewPoint': 42.8,\n",
       "    'humidity': 0.87,\n",
       "    'icon': 'cloudy',\n",
       "    'precipIntensity': 0,\n",
       "    'precipProbability': 0,\n",
       "    'pressure': 1017.89,\n",
       "    'summary': 'Overcast',\n",
       "    'temperature': 46.42,\n",
       "    'time': 1389369600,\n",
       "    'uvIndex': 0,\n",
       "    'visibility': 9.997,\n",
       "    'windBearing': 212,\n",
       "    'windGust': 14.31,\n",
       "    'windSpeed': 6.52},\n",
       "   {'apparentTemperature': 43.25,\n",
       "    'cloudCover': 1,\n",
       "    'dewPoint': 42.8,\n",
       "    'humidity': 0.87,\n",
       "    'icon': 'cloudy',\n",
       "    'precipIntensity': 0,\n",
       "    'precipProbability': 0,\n",
       "    'pressure': 1019.61,\n",
       "    'summary': 'Overcast',\n",
       "    'temperature': 46.42,\n",
       "    'time': 1389373200,\n",
       "    'uvIndex': 0,\n",
       "    'visibility': 9.997,\n",
       "    'windBearing': 215,\n",
       "    'windGust': 13.36,\n",
       "    'windSpeed': 6.28},\n",
       "   {'apparentTemperature': 43.64,\n",
       "    'cloudCover': 1,\n",
       "    'dewPoint': 42.8,\n",
       "    'humidity': 0.87,\n",
       "    'icon': 'cloudy',\n",
       "    'precipIntensity': 0,\n",
       "    'precipProbability': 0,\n",
       "    'pressure': 1019.89,\n",
       "    'summary': 'Overcast',\n",
       "    'temperature': 46.42,\n",
       "    'time': 1389376800,\n",
       "    'uvIndex': 0,\n",
       "    'visibility': 10,\n",
       "    'windBearing': 222,\n",
       "    'windGust': 20.73,\n",
       "    'windSpeed': 5.6},\n",
       "   {'apparentTemperature': 43.35,\n",
       "    'cloudCover': 1,\n",
       "    'dewPoint': 42.8,\n",
       "    'humidity': 0.89,\n",
       "    'icon': 'cloudy',\n",
       "    'precipIntensity': 0,\n",
       "    'precipProbability': 0,\n",
       "    'pressure': 1020.01,\n",
       "    'summary': 'Overcast',\n",
       "    'temperature': 46,\n",
       "    'time': 1389380400,\n",
       "    'uvIndex': 1,\n",
       "    'visibility': 10,\n",
       "    'windBearing': 226,\n",
       "    'windGust': 10.8,\n",
       "    'windSpeed': 5.25},\n",
       "   {'apparentTemperature': 44.01,\n",
       "    'cloudCover': 1,\n",
       "    'dewPoint': 42.8,\n",
       "    'humidity': 0.87,\n",
       "    'icon': 'cloudy',\n",
       "    'precipIntensity': 0,\n",
       "    'precipProbability': 0,\n",
       "    'pressure': 1018.99,\n",
       "    'summary': 'Overcast',\n",
       "    'temperature': 46.36,\n",
       "    'time': 1389384000,\n",
       "    'uvIndex': 1,\n",
       "    'visibility': 10,\n",
       "    'windBearing': 229,\n",
       "    'windGust': 10.13,\n",
       "    'windSpeed': 4.89},\n",
       "   {'apparentTemperature': 44.74,\n",
       "    'cloudCover': 1,\n",
       "    'dewPoint': 42.8,\n",
       "    'humidity': 0.86,\n",
       "    'icon': 'cloudy',\n",
       "    'precipIntensity': 0,\n",
       "    'precipProbability': 0,\n",
       "    'pressure': 1018.3,\n",
       "    'summary': 'Overcast',\n",
       "    'temperature': 46.76,\n",
       "    'time': 1389387600,\n",
       "    'uvIndex': 1,\n",
       "    'visibility': 9.997,\n",
       "    'windBearing': 213,\n",
       "    'windGust': 10.01,\n",
       "    'windSpeed': 4.51},\n",
       "   {'apparentTemperature': 46.58,\n",
       "    'cloudCover': 1,\n",
       "    'dewPoint': 42.8,\n",
       "    'humidity': 0.81,\n",
       "    'icon': 'cloudy',\n",
       "    'precipIntensity': 0,\n",
       "    'precipProbability': 0,\n",
       "    'pressure': 1017.2,\n",
       "    'summary': 'Overcast',\n",
       "    'temperature': 48.22,\n",
       "    'time': 1389391200,\n",
       "    'uvIndex': 1,\n",
       "    'visibility': 10,\n",
       "    'windBearing': 192,\n",
       "    'windGust': 9.31,\n",
       "    'windSpeed': 4.32},\n",
       "   {'apparentTemperature': 46.95,\n",
       "    'cloudCover': 1,\n",
       "    'dewPoint': 42.8,\n",
       "    'humidity': 0.81,\n",
       "    'icon': 'cloudy',\n",
       "    'precipIntensity': 0,\n",
       "    'precipProbability': 0,\n",
       "    'pressure': 1016.28,\n",
       "    'summary': 'Overcast',\n",
       "    'temperature': 48.22,\n",
       "    'time': 1389394800,\n",
       "    'uvIndex': 0,\n",
       "    'visibility': 9.997,\n",
       "    'windBearing': 187,\n",
       "    'windGust': 8.04,\n",
       "    'windSpeed': 3.83},\n",
       "   {'apparentTemperature': 45.53,\n",
       "    'cloudCover': 1,\n",
       "    'dewPoint': 42.8,\n",
       "    'humidity': 0.87,\n",
       "    'icon': 'cloudy',\n",
       "    'precipIntensity': 0,\n",
       "    'precipProbability': 0,\n",
       "    'pressure': 1015.4,\n",
       "    'summary': 'Overcast',\n",
       "    'temperature': 46.44,\n",
       "    'time': 1389398400,\n",
       "    'uvIndex': 0,\n",
       "    'visibility': 9.997,\n",
       "    'windBearing': 180,\n",
       "    'windGust': 6.24,\n",
       "    'windSpeed': 3.12},\n",
       "   {'apparentTemperature': 44.48,\n",
       "    'cloudCover': 1,\n",
       "    'dewPoint': 41,\n",
       "    'humidity': 0.84,\n",
       "    'icon': 'rain',\n",
       "    'precipIntensity': 0.01,\n",
       "    'precipProbability': 1,\n",
       "    'precipType': 'rain',\n",
       "    'pressure': 1013.47,\n",
       "    'summary': 'Drizzle',\n",
       "    'temperature': 45.66,\n",
       "    'time': 1389402000,\n",
       "    'uvIndex': 0,\n",
       "    'visibility': 9.997,\n",
       "    'windBearing': 120,\n",
       "    'windGust': 6.43,\n",
       "    'windSpeed': 3.3},\n",
       "   {'apparentTemperature': 45.57,\n",
       "    'cloudCover': 1,\n",
       "    'dewPoint': 41,\n",
       "    'humidity': 0.81,\n",
       "    'icon': 'rain',\n",
       "    'precipIntensity': 0.0199,\n",
       "    'precipProbability': 1,\n",
       "    'precipType': 'rain',\n",
       "    'pressure': 1011.7,\n",
       "    'summary': 'Light Rain',\n",
       "    'temperature': 46.42,\n",
       "    'time': 1389405600,\n",
       "    'uvIndex': 0,\n",
       "    'visibility': 9.997,\n",
       "    'windBearing': 114,\n",
       "    'windGust': 6.68,\n",
       "    'windSpeed': 3.06},\n",
       "   {'apparentTemperature': 45.3,\n",
       "    'cloudCover': 1,\n",
       "    'dewPoint': 41,\n",
       "    'humidity': 0.81,\n",
       "    'icon': 'rain',\n",
       "    'precipIntensity': 0.03,\n",
       "    'precipProbability': 1,\n",
       "    'precipType': 'rain',\n",
       "    'pressure': 1010.13,\n",
       "    'summary': 'Light Rain',\n",
       "    'temperature': 46.42,\n",
       "    'time': 1389409200,\n",
       "    'uvIndex': 0,\n",
       "    'visibility': 9.997,\n",
       "    'windBearing': 140,\n",
       "    'windGust': 7.1,\n",
       "    'windSpeed': 3.34},\n",
       "   {'apparentTemperature': 44.54,\n",
       "    'cloudCover': 1,\n",
       "    'dewPoint': 42.8,\n",
       "    'humidity': 0.87,\n",
       "    'icon': 'rain',\n",
       "    'precipIntensity': 0.0157,\n",
       "    'precipProbability': 0.8,\n",
       "    'precipType': 'rain',\n",
       "    'pressure': 1008.44,\n",
       "    'summary': 'Drizzle',\n",
       "    'temperature': 46.42,\n",
       "    'time': 1389412800,\n",
       "    'uvIndex': 0,\n",
       "    'visibility': 9.997,\n",
       "    'windBearing': 144,\n",
       "    'windGust': 8.16,\n",
       "    'windSpeed': 4.26},\n",
       "   {'apparentTemperature': 44.58,\n",
       "    'cloudCover': 1,\n",
       "    'dewPoint': 42.8,\n",
       "    'humidity': 0.81,\n",
       "    'icon': 'rain',\n",
       "    'precipIntensity': 0.0199,\n",
       "    'precipProbability': 1,\n",
       "    'precipType': 'rain',\n",
       "    'pressure': 1007.4,\n",
       "    'summary': 'Light Rain',\n",
       "    'temperature': 48.22,\n",
       "    'time': 1389416400,\n",
       "    'uvIndex': 0,\n",
       "    'visibility': 9.997,\n",
       "    'windBearing': 140,\n",
       "    'windGust': 8.05,\n",
       "    'windSpeed': 8.05},\n",
       "   {'apparentTemperature': 46.53,\n",
       "    'cloudCover': 1,\n",
       "    'dewPoint': 44.59,\n",
       "    'humidity': 0.87,\n",
       "    'icon': 'rain',\n",
       "    'precipIntensity': 0.01,\n",
       "    'precipProbability': 1,\n",
       "    'precipType': 'rain',\n",
       "    'pressure': 1004.53,\n",
       "    'summary': 'Drizzle',\n",
       "    'temperature': 48.22,\n",
       "    'time': 1389420000,\n",
       "    'uvIndex': 0,\n",
       "    'visibility': 9.997,\n",
       "    'windBearing': 171,\n",
       "    'windGust': 9.74,\n",
       "    'windSpeed': 4.39},\n",
       "   {'apparentTemperature': 51.81,\n",
       "    'cloudCover': 1,\n",
       "    'dewPoint': 46.41,\n",
       "    'humidity': 0.82,\n",
       "    'icon': 'rain',\n",
       "    'precipIntensity': 0.01,\n",
       "    'precipProbability': 1,\n",
       "    'precipType': 'rain',\n",
       "    'pressure': 1002.88,\n",
       "    'summary': 'Drizzle',\n",
       "    'temperature': 51.81,\n",
       "    'time': 1389423600,\n",
       "    'uvIndex': 0,\n",
       "    'visibility': 7.002,\n",
       "    'windBearing': 180,\n",
       "    'windGust': 8.65,\n",
       "    'windSpeed': 6.91}],\n",
       "  'icon': 'rain',\n",
       "  'summary': 'Light rain overnight and in the evening.'},\n",
       " 'latitude': 47.44472,\n",
       " 'longitude': -122.31361,\n",
       " 'offset': -8,\n",
       " 'timezone': 'America/Los_Angeles'}"
      ]
     },
     "execution_count": 35,
     "metadata": {},
     "output_type": "execute_result"
    }
   ],
   "source": [
    "Weather.find_one()"
   ]
  },
  {
   "cell_type": "code",
   "execution_count": 36,
   "metadata": {
    "collapsed": true
   },
   "outputs": [],
   "source": [
    "def getprecipitation(info):\n",
    "    times = info.find({})\n",
    "    info = dict()\n",
    "    for time in times:\n",
    "        for i in range(len(time['hourly']['data'])):\n",
    "            t = time['hourly']['data'][i]['time']\n",
    "            try: \n",
    "                rain = time['hourly']['data'][i]['precipIntensity']\n",
    "            except:\n",
    "                continue\n",
    "            dt = datetime.datetime.utcfromtimestamp(t)-datetime.timedelta(hours=8)\n",
    "            info[dt] = rain\n",
    "    return info"
   ]
  },
  {
   "cell_type": "code",
   "execution_count": 37,
   "metadata": {},
   "outputs": [],
   "source": [
    "rain = getprecipitation(Weather)\n",
    "rainpd = pd.DataFrame.from_dict(rain, orient='index')"
   ]
  },
  {
   "cell_type": "code",
   "execution_count": 38,
   "metadata": {},
   "outputs": [],
   "source": [
    "def getnorainlist(df,num):\n",
    "    count = 0\n",
    "    lst = []\n",
    "    for i, index in zip(range(df.size),df.index):\n",
    "        if df.iloc[i,0] == 0:\n",
    "            count += 1\n",
    "        if df.iloc[i,0] != 0:\n",
    "            if count >= num:\n",
    "                lst.append(index)\n",
    "            count = 0\n",
    "    return lst\n",
    "def getrainlist(df,num,level):\n",
    "    count = 0\n",
    "    lst = []\n",
    "    for i, index in zip(range(df.size),df.index):\n",
    "        if df.iloc[i,0] > level:\n",
    "            count += 1\n",
    "        if df.iloc[i,0] <= level:\n",
    "            if count >= num:\n",
    "                lst.append(index)\n",
    "            count = 0\n",
    "    return lst"
   ]
  },
  {
   "cell_type": "code",
   "execution_count": 39,
   "metadata": {},
   "outputs": [],
   "source": [
    "thirtysixhourlst = getnorainlist(rainpd,7)"
   ]
  },
  {
   "cell_type": "code",
   "execution_count": 245,
   "metadata": {},
   "outputs": [
    {
     "data": {
      "text/plain": [
       "92"
      ]
     },
     "execution_count": 245,
     "metadata": {},
     "output_type": "execute_result"
    }
   ],
   "source": [
    "len(thirtysixhourlst)\n",
    "seriousrain = getrainlist(rainpd,1,.1)\n",
    "len(seriousrain)"
   ]
  },
  {
   "cell_type": "code",
   "execution_count": 41,
   "metadata": {
    "collapsed": true
   },
   "outputs": [],
   "source": [
    "fourhourswetaccidentlst = getrainlist(rainpd,4,0)"
   ]
  },
  {
   "cell_type": "code",
   "execution_count": 42,
   "metadata": {
    "collapsed": true
   },
   "outputs": [],
   "source": [
    "fourOonehoursweaccidentlst = getrainlist(rainpd,4,.03)"
   ]
  },
  {
   "cell_type": "code",
   "execution_count": 205,
   "metadata": {
    "collapsed": true
   },
   "outputs": [],
   "source": [
    "def welch_satterhwaithe_df(sample_1, sample_2):\n",
    "    ss1 = len(sample_1)\n",
    "    ss2 = len(sample_2)\n",
    "    df = (\n",
    "        ((np.var(sample_1)/ss1 + np.var(sample_2)/ss2)**(2.0)) / \n",
    "        ((np.var(sample_1)/ss1)**(2.0)/(ss1 - 1) + (np.var(sample_2)/ss2)**(2.0)/(ss2 - 1))\n",
    "    )\n",
    "    return df"
   ]
  },
  {
   "cell_type": "code",
   "execution_count": 206,
   "metadata": {
    "collapsed": true
   },
   "outputs": [],
   "source": [
    "def welch_test_statistic(sample_1, sample_2):\n",
    "    numerator = np.mean(sample_1) - np.mean(sample_2)\n",
    "    denominator_sq = (np.var(sample_1) / len(sample_1)) + (np.var(sample_2) / len(sample_2))\n",
    "    return numerator / np.sqrt(denominator_sq)"
   ]
  },
  {
   "cell_type": "code",
   "execution_count": 320,
   "metadata": {},
   "outputs": [],
   "source": [
    "def getaccidentdict(df,lst,timeback):\n",
    "    diction = dict() \n",
    "    df = df[df['INCDTTM'].dt.time != datetime.time(0,0)]\n",
    "    for i in lst:\n",
    "        time = i.to_pydatetime()\n",
    "        timebefore = time - datetime.timedelta(minutes=(timeback*60))\n",
    "        timeafter =  time - datetime.timedelta(minutes=(timeback*60) + 59)\n",
    "        accidents = sum((df['INCDTTM'] > timeafter) & (df['INCDTTM'] <= timebefore))\n",
    "        if accidents > 0:\n",
    "            diction[time] = accidents\n",
    "    return diction\n",
    "\n",
    "def severitywetaccidentsdict(df,lst,kind,timeback):\n",
    "    diction = dict()\n",
    "    dictionary = dict()\n",
    "    df = df[df['INCDTTM'].dt.time != datetime.time(0,0)]\n",
    "    for i in lst:\n",
    "        time = i.to_pydatetime()\n",
    "        timebefore = time - datetime.timedelta(minutes=(timeback*60))\n",
    "        timeafter =  time - datetime.timedelta(minutes=(timeback*60) + 59)\n",
    "        accidents = sum((df['INCDTTM'] > timeafter) & (df['INCDTTM'] <= timebefore))\n",
    "        if accidents > 0:\n",
    "            diction[time] = accidents\n",
    "            count =  sum(df[(df['INCDTTM']> timeafter) & (df['INCDTTM']<= timebefore) & (df[kind] > 0)][kind])\n",
    "            dictionary[time] = count\n",
    "    return (diction, dictionary)"
   ]
  },
  {
   "cell_type": "code",
   "execution_count": 325,
   "metadata": {},
   "outputs": [],
   "source": [
    "#wetfourhourinjuriesdict = severitywetaccidentsdict(file2,fourhourswetaccidentlst,'INJURIES',0)\n",
    "#wetfourhourseriousinjuriesdict = severitywetaccidentsdict(file2,fourhourswetaccidentlst,'SERIOUSINJURIES',0)\n",
    "#wetfourhourifatalitiesdict = severitywetaccidentsdict(file2,fourhourswetaccidentlst,'FATALITIES',0)"
   ]
  },
  {
   "cell_type": "code",
   "execution_count": 327,
   "metadata": {},
   "outputs": [
    {
     "name": "stdout",
     "output_type": "stream",
     "text": [
      "WET FOR 3 OR MORE CONSECUTIVE HOURS\n",
      "Number of accients\n",
      "776\n",
      "776\n",
      "Regular injuries below\n",
      "318\n",
      "AVG number of regular injuries per time period: 0.9111747851\n",
      "Serious Injuries Below\n",
      "16\n",
      "Fatalities Below\n",
      "0\n",
      "dict_values([1, 2, 4, 1, 6, 3, 1, 1, 2, 1, 2, 2, 3, 1, 1, 1, 1, 2, 2, 4, 1, 4, 2, 2, 1, 3, 1, 2, 2, 1, 3, 2, 4, 3, 2, 1, 4, 2, 8, 1, 2, 4, 6, 1, 1, 4, 1, 3, 1, 1, 3, 3, 4, 2, 7, 2, 3, 3, 4, 2, 4, 10, 6, 2, 3, 3, 1, 2, 1, 1, 1, 1, 2, 2, 1, 2, 1, 2, 5, 1, 2, 1, 1, 2, 1, 1, 1, 2, 3, 1, 2, 1, 1, 3, 4, 1, 3, 9, 1, 4, 2, 2, 2, 4, 2, 1, 1, 1, 3, 1, 5, 1, 1, 2, 2, 1, 2, 4, 5, 5, 1, 1, 1, 3, 2, 4, 3, 1, 2, 1, 1, 2, 2, 2, 1, 2, 1, 1, 1, 2, 1, 1, 3, 1, 4, 1, 2, 2, 1, 1, 5, 4, 1, 2, 2, 1, 3, 2, 3, 2, 2, 1, 1, 2, 3, 2, 2, 2, 5, 3, 2, 1, 3, 2, 4, 2, 3, 5, 1, 5, 2, 2, 1, 3, 1, 1, 3, 4, 1, 1, 3, 1, 3, 1, 1, 1, 1, 2, 1, 2, 1, 3, 5, 1, 1, 1, 2, 3, 1, 1, 2, 5, 4, 2, 2, 2, 2, 2, 2, 4, 3, 2, 3, 2, 4, 1, 5, 4, 1, 1, 2, 5, 5, 1, 1, 1, 3, 5, 1, 5, 1, 2, 5, 1, 2, 3, 2, 1, 4, 3, 5, 3, 1, 3, 1, 1, 1, 3, 2, 1, 4, 2, 6, 1, 2, 1, 1, 3, 1, 4, 2, 1, 3, 1, 2, 1, 4, 1, 2, 1, 5, 2, 3, 4, 1, 1, 1, 1, 1, 1, 1, 3, 2, 1, 1, 3, 1, 1, 1, 2, 1, 1, 1, 2, 5, 3, 4, 7, 1, 1, 2, 1, 1, 2, 1, 5, 1, 1, 3, 3, 5, 4, 1, 1, 1, 1, 1, 1, 2, 2, 3, 2, 1, 1, 1, 1, 2, 2, 2, 1, 1, 3, 4, 1, 1, 1, 3, 1, 4])\n",
      "dict_values([1, 2, 4, 1, 6, 3, 1, 1, 2, 1, 2, 2, 3, 1, 1, 1, 1, 2, 2, 4, 1, 4, 2, 2, 1, 3, 1, 2, 2, 1, 3, 2, 4, 3, 2, 1, 4, 2, 8, 1, 2, 4, 6, 1, 1, 4, 1, 3, 1, 1, 3, 3, 4, 2, 7, 2, 3, 3, 4, 2, 4, 10, 6, 2, 3, 3, 1, 2, 1, 1, 1, 1, 2, 2, 1, 2, 1, 2, 5, 1, 2, 1, 1, 2, 1, 1, 1, 2, 3, 1, 2, 1, 1, 3, 4, 1, 3, 9, 1, 4, 2, 2, 2, 4, 2, 1, 1, 1, 3, 1, 5, 1, 1, 2, 2, 1, 2, 4, 5, 5, 1, 1, 1, 3, 2, 4, 3, 1, 2, 1, 1, 2, 2, 2, 1, 2, 1, 1, 1, 2, 1, 1, 3, 1, 4, 1, 2, 2, 1, 1, 5, 4, 1, 2, 2, 1, 3, 2, 3, 2, 2, 1, 1, 2, 3, 2, 2, 2, 5, 3, 2, 1, 3, 2, 4, 2, 3, 5, 1, 5, 2, 2, 1, 3, 1, 1, 3, 4, 1, 1, 3, 1, 3, 1, 1, 1, 1, 2, 1, 2, 1, 3, 5, 1, 1, 1, 2, 3, 1, 1, 2, 5, 4, 2, 2, 2, 2, 2, 2, 4, 3, 2, 3, 2, 4, 1, 5, 4, 1, 1, 2, 5, 5, 1, 1, 1, 3, 5, 1, 5, 1, 2, 5, 1, 2, 3, 2, 1, 4, 3, 5, 3, 1, 3, 1, 1, 1, 3, 2, 1, 4, 2, 6, 1, 2, 1, 1, 3, 1, 4, 2, 1, 3, 1, 2, 1, 4, 1, 2, 1, 5, 2, 3, 4, 1, 1, 1, 1, 1, 1, 1, 3, 2, 1, 1, 3, 1, 1, 1, 2, 1, 1, 1, 2, 5, 3, 4, 7, 1, 1, 2, 1, 1, 2, 1, 5, 1, 1, 3, 3, 5, 4, 1, 1, 1, 1, 1, 1, 2, 2, 3, 2, 1, 1, 1, 1, 2, 2, 2, 1, 1, 3, 4, 1, 1, 1, 3, 1, 4])\n",
      "2018-11-29 00:00:00\n"
     ]
    }
   ],
   "source": [
    "print('WET FOR 3 OR MORE CONSECUTIVE HOURS')\n",
    "print('Number of accients')\n",
    "print(sum(wetfourhourinjuriesdict[0].values()))\n",
    "print(sum(list(fourhourswetaccidentdict.values())))\n",
    "print('Regular injuries below')\n",
    "print(sum(wetfourhourinjuriesdict[1].values()))\n",
    "wetfourhoursinjuriesnuminjuries = list(wetfourhourinjuriesdict[1].values())\n",
    "print('AVG number of regular injuries per time period:', sum(wetfourhoursinjuriesnuminjuries)/len(wetfourhourinjuriesdict[1]))\n",
    "print('Serious Injuries Below')\n",
    "print(sum(wetfourhourseriousinjuriesdict[1].values()))\n",
    "print('Fatalities Below')\n",
    "print(sum(wetfourhourifatalitiesdict[1].values()))\n",
    "#wetfourhourifatalitiesdict[0].values()\n",
    "print(wetfourhourinjuriesdict[0].values())\n",
    "#print(wetfourhourinjuriesdict[0].keys())\n",
    "print(fourhourswetaccidentdict.values())\n",
    "#print(fourhourswetaccidentdict.keys())\n",
    "print(list(fourhourswetaccidentdict.keys())[-33])"
   ]
  },
  {
   "cell_type": "code",
   "execution_count": 328,
   "metadata": {},
   "outputs": [],
   "source": [
    "#wetthirtysixhoursdict = severitywetaccidentsdict(file2,thirtysixhourlst,'INJURIES',-1)\n",
    "#wetthirtysixhoursdictseriousinjury = severitywetaccidentsdict(file2,thirtysixhourlst,'SERIOUSINJURIES',-1)\n",
    "#wetthirtysixhoursdictfatalities = severitywetaccidentsdict(file2,thirtysixhourlst,'FATALITIES',-1)"
   ]
  },
  {
   "cell_type": "code",
   "execution_count": 330,
   "metadata": {},
   "outputs": [
    {
     "name": "stdout",
     "output_type": "stream",
     "text": [
      "DRY FOR 7 OR MORE CONSECUTIVE HOURS AND ON THE FOLLOWING HOUR ITS WET\n",
      "Number of accients\n",
      "1101\n",
      "Regular injuries below\n",
      "512\n",
      "AVG number of regular injuries per time period: 1.05567010309\n",
      "Serious Injuries Below\n",
      "19\n",
      "Fatalities Below\n",
      "3\n"
     ]
    }
   ],
   "source": [
    "print('DRY FOR 7 OR MORE CONSECUTIVE HOURS AND ON THE FOLLOWING HOUR ITS WET')\n",
    "print('Number of accients')\n",
    "print(sum(wetthirtysixhoursdict[0].values()))\n",
    "print('Regular injuries below')\n",
    "print(sum(wetthirtysixhoursdict[1].values()))\n",
    "wetthirtysixinjuriesnuminjuries = list(wetthirtysixhoursdict[1].values())\n",
    "print('AVG number of regular injuries per time period:', sum(wetthirtysixinjuriesnuminjuries)/len(wetthirtysixinjuriesnuminjuries))\n",
    "print('Serious Injuries Below')\n",
    "print(sum(wetthirtysixhoursdictseriousinjury[1].values()))\n",
    "print('Fatalities Below')\n",
    "print(sum(wetthirtysixhoursdictfatalities[1].values()))"
   ]
  },
  {
   "cell_type": "code",
   "execution_count": 331,
   "metadata": {},
   "outputs": [],
   "source": [
    "#drythirtysixhourdict = severitywetaccidentsdict(file2,thirtysixhourlst,'INJURIES',2)\n",
    "#drythirtysixhourdictseriousinjuries = severitywetaccidentsdict(file2,thirtysixhourlst,'SERIOUSINJURIES',2)\n",
    "#drythirtysixhourdictfatalities = severitywetaccidentsdict(file2,thirtysixhourlst,'FATALITIES',2)"
   ]
  },
  {
   "cell_type": "code",
   "execution_count": 344,
   "metadata": {},
   "outputs": [
    {
     "name": "stdout",
     "output_type": "stream",
     "text": [
      "DRY FOR 5 OR MORE CONSECUTIVE HOURS\n",
      "Number of accients\n",
      "821\n",
      "Regular injuries below\n",
      "371\n",
      "AVG number of regular injuries per time period: 0.818984547461\n",
      "Serious Injuries Below\n",
      "10\n",
      "Fatalities Below\n",
      "1\n"
     ]
    }
   ],
   "source": [
    "print('DRY FOR 5 OR MORE CONSECUTIVE HOURS')\n",
    "print('Number of accients')\n",
    "print(sum(drythirtysixhourdict[0].values()))\n",
    "print('Regular injuries below')\n",
    "print(sum(drythirtysixhourdict[1].values()))\n",
    "drythirtysixnuminjuries = list(drythirtysixhourdict[1].values())\n",
    "print('AVG number of regular injuries per time period:', sum(drythirtysixnuminjuries)/len(drythirtysixnuminjuries))\n",
    "print('Serious Injuries Below')\n",
    "print(sum(drythirtysixhourdictseriousinjuries[1].values()))\n",
    "print('Fatalities Below')\n",
    "print(sum(drythirtysixhourdictfatalities[1].values()))"
   ]
  },
  {
   "cell_type": "code",
   "execution_count": 333,
   "metadata": {
    "collapsed": true
   },
   "outputs": [],
   "source": [
    "#wetfourOonehourinjuriesdict = severitywetaccidentsdict(file2,fourOonehoursweaccidentlst,'INJURIES',0)\n",
    "#wetfourOoneseriousinjuriesdict = severitywetaccidentsdict(file2,fourOonehoursweaccidentlst,'SERIOUSINJURIES',0)\n",
    "#wetfourOonehourifatalitiesdict = severitywetaccidentsdict(file2,fourOonehoursweaccidentlst,'FATALITIES',0)"
   ]
  },
  {
   "cell_type": "code",
   "execution_count": 345,
   "metadata": {},
   "outputs": [
    {
     "name": "stdout",
     "output_type": "stream",
     "text": [
      "WET FOR 3 OR MORE CONSECUTIVE HOURS BUT HEAVY RAIN\n",
      "Number of accients\n",
      "221\n",
      "Regular injuries below\n",
      "97\n",
      "AVG number regular injuries per time period: 1.03191489362\n",
      "Serious Injuries Below\n",
      "2\n",
      "Fatalities Below\n",
      "0\n"
     ]
    }
   ],
   "source": [
    "print('WET FOR 3 OR MORE CONSECUTIVE HOURS BUT HEAVY RAIN')\n",
    "print('Number of accients')\n",
    "print(sum(wetfourOonehourinjuriesdict[0].values()))\n",
    "print('Regular injuries below')\n",
    "print(sum(wetfourOonehourinjuriesdict[1].values()))\n",
    "wetfourOonehoursinjuries = list(wetfourOonehourinjuriesdict[1].values())\n",
    "print('AVG number regular injuries per time period:',sum(wetfourOonehoursinjuries)/len(wetfourOonehoursinjuries))\n",
    "print('Serious Injuries Below')\n",
    "print(sum(wetfourOoneseriousinjuriesdict[1].values()))\n",
    "print('Fatalities Below')\n",
    "print(sum(wetfourOonehourifatalitiesdict[1].values()))"
   ]
  },
  {
   "cell_type": "code",
   "execution_count": 334,
   "metadata": {
    "collapsed": true
   },
   "outputs": [],
   "source": [
    "#seriousrainhourinjuriesdict = severitywetaccidentsdict(file2,seriousrain,'INJURIES',0)\n",
    "#seriousrainhourseriousinjuriesdict = severitywetaccidentsdict(file2,seriousrain,'SERIOUSINJURIES',0)\n",
    "#seriousrainfatalitiesdict = severitywetaccidentsdict(file2,seriousrain,'FATALITIES',0)"
   ]
  },
  {
   "cell_type": "code",
   "execution_count": 347,
   "metadata": {},
   "outputs": [
    {
     "name": "stdout",
     "output_type": "stream",
     "text": [
      "GREATER THAN OR EQUAL TO .1 INCHES FOR 1 HOUR\n",
      "Number of accients\n",
      "160\n",
      "Regular injuries below\n",
      "70\n",
      "AVG number regular injuries per time period: 1.09375\n",
      "Serious Injuries Below\n",
      "2\n",
      "Fatalities Below\n",
      "0\n"
     ]
    }
   ],
   "source": [
    "print('GREATER THAN OR EQUAL TO .1 INCHES FOR 1 HOUR')\n",
    "print('Number of accients')\n",
    "print(sum(seriousrainhourinjuriesdict[0].values()))\n",
    "print('Regular injuries below')\n",
    "print(sum(seriousrainhourinjuriesdict[1].values()))\n",
    "seriousraininjuries = list(seriousrainhourinjuriesdict[1].values())\n",
    "print('AVG number regular injuries per time period:',sum(seriousraininjuries)/len(seriousraininjuries))\n",
    "print('Serious Injuries Below')\n",
    "print(sum(seriousrainhourseriousinjuriesdict[1].values()))\n",
    "print('Fatalities Below')\n",
    "print(sum(seriousrainfatalitiesdict[1].values()))"
   ]
  },
  {
   "cell_type": "code",
   "execution_count": 338,
   "metadata": {},
   "outputs": [
    {
     "data": {
      "image/png": "[encoded data removed]",
      "text/plain": [
       "<Figure size 864x432 with 1 Axes>"
      ]
     },
     "metadata": {},
     "output_type": "display_data"
    }
   ],
   "source": [
    "fig, ax = plt.subplots(1, figsize=(12, 6))\n",
    "ax.bar(1,np.mean(list(drythirtysixhourdict[1].values())),label='DRY FOR 5 OR MORE CONSECUTIVE HOURS')\n",
    "ax.bar(2,(sum(wetfourhourinjuriesdict[1].values())/len(wetfourhourinjuriesdict[1].values())),label='WET FOR 3 OR MORE CONSECUTIVE HOURS')\n",
    "ax.bar(3,(sum(wetfourOonehourinjuriesdict[1].values())/len(wetfourOonehourinjuriesdict[1].values())),color='purple',label='WET FOR 3 OR MORE CONSECUTIVE HOURS BUT HEAVIER RAIN')\n",
    "ax.bar(4,(sum(wetthirtysixhoursdict[1].values())/len(wetthirtysixhoursdict[1].values())),color='black',label='DRY FOR 7 OR MORE CONSECUTIVE HOURS AND ON THE FOLLOWING HOUR ITS WET')\n",
    "ax.bar(5, np.mean(seriousraininjuries),label='GREATER THAN OR EQUAL TO .1 INCHES FOR 1 HOUR')\n",
    "ax.set_title('AVG number of regular injuries per hour')\n",
    "ax.set_ylabel('Number of regular Injuries')\n",
    "ax.legend(loc='lower right',fontsize='x-large')\n",
    "ax.get_xaxis().set_visible(False)"
   ]
  },
  {
   "cell_type": "code",
   "execution_count": 339,
   "metadata": {},
   "outputs": [
    {
     "name": "stdout",
     "output_type": "stream",
     "text": [
      "Null Hypothesis: GREATER THAN OR EQUAL TO .1 INCHES FOR 1 HOUR AND DRY FOR 7 OR MORE CONSECUTIVE HOURS AND ON THE FOLLOWING HOUR ITS WET BOTH HAVE THE SAME NUMBER OF REGULAR INJURIES\n",
      "alpha: .1\n",
      "pvalue: 0.577608294423\n",
      "Cannot reject null\n"
     ]
    }
   ],
   "source": [
    "print('Null Hypothesis: GREATER THAN OR EQUAL TO .1 INCHES FOR 1 HOUR AND DRY FOR 7 OR MORE CONSECUTIVE HOURS AND ON THE FOLLOWING HOUR ITS WET BOTH HAVE THE SAME NUMBER OF REGULAR INJURIES')\n",
    "df9 = welch_satterhwaithe_df(seriousraininjuries,wetthirtysixinjuriesnuminjuries)\n",
    "test_stat9 = welch_test_statistic(seriousraininjuries,wetthirtysixinjuriesnuminjuries)\n",
    "students9 = stats.t(df9)\n",
    "pvalue9 = students4.cdf(test_stat9)\n",
    "print('alpha: .1')\n",
    "print('pvalue:',pvalue9)\n",
    "print('Cannot reject null')"
   ]
  },
  {
   "cell_type": "code",
   "execution_count": 340,
   "metadata": {},
   "outputs": [
    {
     "name": "stdout",
     "output_type": "stream",
     "text": [
      "Null Hypothesis: WHEN WET FOR 3 OR MORE CONSECUTIVE HOURS AND DRY FOR 7 OR MORE CONSECUTIVE HOURS AND ON THE FOLLOWING HOUR ITS WET BOTH HAVE THE SAME NUMBER OF REGULAR INJURIES\n",
      "alpha: .1\n",
      "pvalue: 0.0583281036921\n",
      "Must reject null\n"
     ]
    }
   ],
   "source": [
    "print('Null Hypothesis: WHEN WET FOR 3 OR MORE CONSECUTIVE HOURS AND DRY FOR 7 OR MORE CONSECUTIVE HOURS AND ON THE FOLLOWING HOUR ITS WET BOTH HAVE THE SAME NUMBER OF REGULAR INJURIES')\n",
    "df4 = welch_satterhwaithe_df(wetfourhoursinjuriesnuminjuries,wetthirtysixinjuriesnuminjuries)\n",
    "test_stat4 = welch_test_statistic(wetfourhoursinjuriesnuminjuries,wetthirtysixinjuriesnuminjuries)\n",
    "students4 = stats.t(df4)\n",
    "pvalue4 = students4.cdf(test_stat4)\n",
    "print('alpha: .1')\n",
    "print('pvalue:',pvalue4)\n",
    "print('Must reject null')"
   ]
  },
  {
   "cell_type": "code",
   "execution_count": 341,
   "metadata": {},
   "outputs": [
    {
     "name": "stdout",
     "output_type": "stream",
     "text": [
      "Null Hypothesis: WHEN WET FOR 3 OR MORE CONSECUTIVE HOURS BUT HEAVY RAIN AND DRY FOR 7 OR MORE CONSECUTIVE HOURS AND ON THE FOLLOWING HOUR ITS WET BOTH HAVE THE SAME NUMBER OF REGULAR INJURIES\n",
      "alpha: .1\n",
      "pvalue: 0.435702875837\n",
      "Cannot reject nulll\n"
     ]
    }
   ],
   "source": [
    "print('Null Hypothesis: WHEN WET FOR 3 OR MORE CONSECUTIVE HOURS BUT HEAVY RAIN AND DRY FOR 7 OR MORE CONSECUTIVE HOURS AND ON THE FOLLOWING HOUR ITS WET BOTH HAVE THE SAME NUMBER OF REGULAR INJURIES')\n",
    "df8 = welch_satterhwaithe_df(wetfourOonehoursinjuries,wetthirtysixinjuriesnuminjuries)\n",
    "test_stat8 = welch_test_statistic(wetfourOonehoursinjuries,wetthirtysixinjuriesnuminjuries)\n",
    "students8 = stats.t(df8)\n",
    "pvalue8 = students4.cdf(test_stat8)\n",
    "print('alpha: .1')\n",
    "print('pvalue:',pvalue8)\n",
    "print('Cannot reject nulll')"
   ]
  },
  {
   "cell_type": "code",
   "execution_count": 213,
   "metadata": {},
   "outputs": [],
   "source": [
    "#print('Null Hypothesis: WHEN WET FOR 3 OR MORE CONSECUTIVE HOURS AND DRY FOR 5 OR MORE HOURS BOTH HAVE THE SAME NUMBER OF REGULAR INJURIES')\n",
    "#df5 = welch_satterhwaithe_df(wetfourhoursinjuriesnuminjuries,drythirtysixnuminjuries)\n",
    "#test_stat5 = welch_test_statistic(wetfourhoursinjuriesnuminjuries,drythirtysixnuminjuries)\n",
    "#students5 = stats.t(df5)\n",
    "#pvalue5 = students5.cdf(test_stat5)\n",
    "#print('alpha: .1')\n",
    "#print('pvalue:',1 - pvalue5)\n",
    "#print('Cannot reject null')"
   ]
  },
  {
   "cell_type": "code",
   "execution_count": 342,
   "metadata": {},
   "outputs": [
    {
     "name": "stdout",
     "output_type": "stream",
     "text": [
      "Null Hypothesis: DRY FOR 7 OR MORE CONSECUTIVE HOURS AND ON THE FOLLOWING HOUR ITS WET AND DRY FOR 5 OR MORE HOURS BOTH HAVE THE SAME NUMBER OF REGULAR INJURIES\n",
      "alpha: .1\n",
      "pvalue: 0.00300034806961\n",
      "Must reject null\n"
     ]
    }
   ],
   "source": [
    "print('Null Hypothesis: DRY FOR 7 OR MORE CONSECUTIVE HOURS AND ON THE FOLLOWING HOUR ITS WET AND DRY FOR 5 OR MORE HOURS BOTH HAVE THE SAME NUMBER OF REGULAR INJURIES')\n",
    "df6 = welch_satterhwaithe_df(wetthirtysixinjuriesnuminjuries,drythirtysixnuminjuries)\n",
    "test_stat6 = welch_test_statistic(wetthirtysixinjuriesnuminjuries,drythirtysixnuminjuries)\n",
    "students6 = stats.t(df6)\n",
    "pvalue6 = 1-students6.cdf(test_stat6)\n",
    "print('alpha: .1')\n",
    "print('pvalue:',pvalue6)\n",
    "print('Must reject null')"
   ]
  },
  {
   "cell_type": "code",
   "execution_count": 349,
   "metadata": {},
   "outputs": [
    {
     "data": {
      "image/png": "[encoded data removed]",
      "text/plain": [
       "<Figure size 864x432 with 1 Axes>"
      ]
     },
     "metadata": {},
     "output_type": "display_data"
    }
   ],
   "source": [
    "fig, ax = plt.subplots(1, figsize=(12, 6))\n",
    "ax.bar(1,np.mean(list(drythirtysixhourdict[0].values())),label='DRY FOR 5 OR MORE CONSECUTIVE HOURS')\n",
    "ax.bar(2,np.mean(list(wetfourhourinjuriesdict[0].values())),label='WET FOR 3 OR MORE CONSECUTIVE HOURS')\n",
    "ax.bar(3,np.mean(list(wetthirtysixhoursdict[0].values())),color='black',label='DRY FOR 7 OR MORE CONSECUTIVE HOURS AND ON THE FOLLOWING HOUR ITS WET')\n",
    "ax.bar(4,np.mean(list(wetfourOonehourinjuriesdict[0].values())),color='purple', label='WET FOR 3 OR MORE CONSECUTIVE HOURS BUT HEAVIER RAIN')\n",
    "ax.bar(5,np.mean(list(seriousrainhourinjuriesdict[0].values())),label='GREATER THAN OR EQUAL TO .1 INCHES FOR 1 HOUR')\n",
    "ax.set_title('AVG number of accidents per hour')\n",
    "ax.set_ylabel('Number of accidents')\n",
    "ax.legend(loc='lower right',fontsize='x-large')\n",
    "ax.get_xaxis().set_visible(False)"
   ]
  },
  {
   "cell_type": "code",
   "execution_count": 230,
   "metadata": {},
   "outputs": [
    {
     "name": "stdout",
     "output_type": "stream",
     "text": [
      "p-value: 0.00107953926049 - Reject null: dry and 7 or more hours of dry but on the following hour are not the same\n"
     ]
    }
   ],
   "source": [
    "df = welch_satterhwaithe_df(list(drythirtysixvalues),list(wetthirtysixvalues))\n",
    "test_stat = welch_test_statistic(list(drythirtysixvalues),list(wetthirtysixvalues))\n",
    "students = stats.t(df)\n",
    "pvalue = students.cdf(test_stat)\n",
    "print('p-value:',pvalue,'- Reject null: dry and 7 or more hours of dry but on the following hour are not the same')"
   ]
  },
  {
   "cell_type": "code",
   "execution_count": 229,
   "metadata": {},
   "outputs": [
    {
     "name": "stdout",
     "output_type": "stream",
     "text": [
      "p-value: 0.287584793383 - Accept null: wet 3 hours and 7 or more hours of dry but on the following hour are the same\n"
     ]
    }
   ],
   "source": [
    "df2 = welch_satterhwaithe_df(list(fourhourswetvalues),list(wetthirtysixvalues))\n",
    "test_stat2 = welch_test_statistic(list(fourhourswetvalues),list(wetthirtysixvalues))\n",
    "students2 = stats.t(df2)\n",
    "pvalue2 = students2.cdf(test_stat2)\n",
    "print('p-value:',pvalue2,'- Accept null: wet 3 hours and 7 or more hours of dry but on the following hour are the same')"
   ]
  },
  {
   "cell_type": "code",
   "execution_count": 231,
   "metadata": {},
   "outputs": [
    {
     "name": "stdout",
     "output_type": "stream",
     "text": [
      "p-value: 0.494248129732 - Accept null: wet 3 hours of heavy rain and 7 or more hours of dry but on the following hour are the same\n"
     ]
    }
   ],
   "source": [
    "df7 = welch_satterhwaithe_df(list(wetthirtysixvalues),list(fourOonehourswetvalues))\n",
    "test_stat7 = welch_test_statistic(list(wetthirtysixvalues),list(fourOonehourswetvalues))\n",
    "students7 = stats.t(df7)\n",
    "pvalue7 = students7.cdf(test_stat7)\n",
    "print('p-value:',pvalue7,'- Accept null: wet 3 hours of heavy rain and 7 or more hours of dry but on the following hour are the same')"
   ]
  },
  {
   "cell_type": "code",
   "execution_count": 262,
   "metadata": {},
   "outputs": [
    {
     "name": "stdout",
     "output_type": "stream",
     "text": [
      "p-value: 0.494248129732 - Accept null: greater than or equal to .1 inches for 1 hour and 7 or more hours of dry but on the following hour are the same\n"
     ]
    }
   ],
   "source": [
    "df10 = welch_satterhwaithe_df(list(wetthirtysixvalues),list(seriousrainwetvalues))\n",
    "test_stat10 = welch_test_statistic(list(wetthirtysixvalues),list(seriousrainwetvalues))\n",
    "students10 = stats.t(df10)\n",
    "pvalue10 = students7.cdf(test_stat10)\n",
    "print('p-value:',pvalue7,'- Accept null: greater than or equal to .1 inches for 1 hour and 7 or more hours of dry but on the following hour are the same')"
   ]
  },
  {
   "cell_type": "code",
   "execution_count": 52,
   "metadata": {},
   "outputs": [],
   "source": [
    "def getaccidentsperhour(df):\n",
    "    dic=dict()\n",
    "    df = df[df['INCDTTM'].dt.time != datetime.time(0,0)]\n",
    "    for i in range(24):\n",
    "        if i == 23:\n",
    "            hourly = df[(df['INCDTTM'].dt.time >= datetime.time(i,0)) &\n",
    "                        (df['INCDTTM'].dt.time <= datetime.time(23,59))].shape[0]\n",
    "            dic[i]=hourly\n",
    "        else:\n",
    "            hourly = df[(df['INCDTTM'].dt.time >= datetime.time(i,0)) &\n",
    "                        (df['INCDTTM'].dt.time < datetime.time(i+1,0))].shape[0]\n",
    "            dic[i]=hourly\n",
    "    return dic"
   ]
  },
  {
   "cell_type": "code",
   "execution_count": 53,
   "metadata": {},
   "outputs": [
    {
     "data": {
      "text/plain": [
       "{0: 3828,\n",
       " 1: 3410,\n",
       " 2: 3579,\n",
       " 3: 1638,\n",
       " 4: 1195,\n",
       " 5: 1626,\n",
       " 6: 3152,\n",
       " 7: 6364,\n",
       " 8: 8303,\n",
       " 9: 7824,\n",
       " 10: 7257,\n",
       " 11: 7992,\n",
       " 12: 10117,\n",
       " 13: 9995,\n",
       " 14: 10395,\n",
       " 15: 11296,\n",
       " 16: 11916,\n",
       " 17: 12726,\n",
       " 18: 9590,\n",
       " 19: 7097,\n",
       " 20: 6105,\n",
       " 21: 5497,\n",
       " 22: 5353,\n",
       " 23: 4564}"
      ]
     },
     "execution_count": 53,
     "metadata": {},
     "output_type": "execute_result"
    }
   ],
   "source": [
    "hourlyaccidents = getaccidentsperhour(file2)\n",
    "hourlyaccidents"
   ]
  },
  {
   "cell_type": "code",
   "execution_count": null,
   "metadata": {
    "collapsed": true
   },
   "outputs": [],
   "source": []
  }
 ],
 "metadata": {
  "kernelspec": {
   "display_name": "Python 3",
   "language": "python",
   "name": "python3"
  },
  "language_info": {
   "codemirror_mode": {
    "name": "ipython",
    "version": 3
   },
   "file_extension": ".py",
   "mimetype": "text/x-python",
   "name": "python",
   "nbconvert_exporter": "python",
   "pygments_lexer": "ipython3",
   "version": "3.6.3"
  }
 },
 "nbformat": 4,
 "nbformat_minor": 2
}
