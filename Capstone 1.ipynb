{
 "cells": [
  {
   "cell_type": "code",
   "execution_count": 1,
   "metadata": {
    "collapsed": true
   },
   "outputs": [],
   "source": [
    "%matplotlib inline\n",
    "\n",
    "import numpy as np\n",
    "import pandas as pd\n",
    "import matplotlib.pyplot as plt\n",
    "import scipy.stats as stats\n",
    "import json\n",
    "# Always make it pretty.\n",
    "plt.style.use('ggplot')\n",
    "# Requests sends and recieves HTTP requests.\n",
    "import requests\n",
    "\n",
    "# Beautiful Soup parses HTML documents in python.\n",
    "from bs4 import BeautifulSoup\n",
    "import datetime"
   ]
  },
  {
   "cell_type": "code",
   "execution_count": 2,
   "metadata": {
    "collapsed": true
   },
   "outputs": [],
   "source": [
    "file = pd.read_csv('data/Collisions.csv')"
   ]
  },
  {
   "cell_type": "code",
   "execution_count": 3,
   "metadata": {},
   "outputs": [
    {
     "data": {
      "text/plain": [
       "9492"
      ]
     },
     "execution_count": 3,
     "metadata": {},
     "output_type": "execute_result"
    }
   ],
   "source": [
    "file[file['SPEEDING'] == 'Y'].shape[0]\n",
    "#Number of Accidents with speeding involved"
   ]
  },
  {
   "cell_type": "code",
   "execution_count": 4,
   "metadata": {},
   "outputs": [
    {
     "data": {
      "text/plain": [
       "85"
      ]
     },
     "execution_count": 4,
     "metadata": {},
     "output_type": "execute_result"
    }
   ],
   "source": [
    "file[(file['SPEEDING'] == 'Y') & (file['FATALITIES'] > 0)].shape[0]"
   ]
  },
  {
   "cell_type": "code",
   "execution_count": 5,
   "metadata": {},
   "outputs": [
    {
     "data": {
      "text/plain": [
       "328"
      ]
     },
     "execution_count": 5,
     "metadata": {},
     "output_type": "execute_result"
    }
   ],
   "source": [
    "file[file['FATALITIES'] > 0].shape[0]"
   ]
  },
  {
   "cell_type": "code",
   "execution_count": 6,
   "metadata": {},
   "outputs": [
    {
     "name": "stdout",
     "output_type": "stream",
     "text": [
      "0\n"
     ]
    },
    {
     "data": {
      "text/plain": [
       "25721"
      ]
     },
     "execution_count": 6,
     "metadata": {},
     "output_type": "execute_result"
    }
   ],
   "source": [
    "print(file['INCDTTM'].isnull().sum())\n",
    "file['UNDERINFL'].isnull().sum()\n"
   ]
  },
  {
   "cell_type": "code",
   "execution_count": 7,
   "metadata": {},
   "outputs": [
    {
     "data": {
      "text/plain": [
       "9315"
      ]
     },
     "execution_count": 7,
     "metadata": {},
     "output_type": "execute_result"
    }
   ],
   "source": [
    "file[(file['UNDERINFL'] == 'Y') | (file['UNDERINFL'] == '1' )].shape[0]"
   ]
  },
  {
   "cell_type": "code",
   "execution_count": 8,
   "metadata": {
    "collapsed": true
   },
   "outputs": [],
   "source": [
    "file[file['SERIOUSINJURIES'] > 0].shape[0]\n",
    "file['UNDERINFL'].unique()\n",
    "drunkdracc = file[((file['UNDERINFL'] == 'Y') | (file['UNDERINFL'] == '1'))].shape[0]"
   ]
  },
  {
   "cell_type": "code",
   "execution_count": 9,
   "metadata": {},
   "outputs": [
    {
     "name": "stdout",
     "output_type": "stream",
     "text": [
      "drunk driving deaths / drunk driving accidents:  0.00966183574879227\n",
      "177568\n",
      "non drunk driving deaths / non drunk driving accidents:  0.001267120201838169\n",
      "0.0\n"
     ]
    }
   ],
   "source": [
    "infl = file[((file['UNDERINFL'] == 'Y') & (file['FATALITIES'] > 0) )| ((file['UNDERINFL'] == '1') & (file['FATALITIES'] > 0))].shape[0]\n",
    "\n",
    "\n",
    "underinflratio = infl / file[file['FATALITIES'] > 0 ].shape[0]\n",
    "\n",
    "noninfl = file[((file['UNDERINFL'] == 'N') & (file['FATALITIES'] > 0) )| ((file['UNDERINFL'] == '0') & (file['FATALITIES'] > 0))].shape[0]\n",
    "\n",
    "noninfluratio = noninfl / file[file['FATALITIES'] > 0].shape[0]\n",
    "#print(noninfluratio)\n",
    "#print(underinflratio)\n",
    "#print(file[(file['FATALITIES'] > 0) & (file['ADDRTYPE'] == 'Block')].shape[0])\n",
    "#print(file[(file['FATALITIES'] > 0) & (file['ADDRTYPE'] == 'Intersection')].shape[0])\n",
    "#print(file[(file['FATALITIES'] > 0) & (file['LIGHTCOND'] == 'Daylight')].shape[0])\n",
    "print('drunk driving deaths / drunk driving accidents: ',(infl/drunkdracc))\n",
    "nondrunkdrivingacccsdeath = file[((file['UNDERINFL'] == 'N') & (file['FATALITIES'] > 0) )| ((file['UNDERINFL'] == '0') & (file['FATALITIES'] > 0))].shape[0]\n",
    "nondrunkdrivingacc = file[(file['UNDERINFL'] == 'N') | (file['UNDERINFL'] == '0')].shape[0]\n",
    "print(nondrunkdrivingacc)\n",
    "print('non drunk driving deaths / non drunk driving accidents: ',(nondrunkdrivingacccsdeath/nondrunkdrivingacc))\n",
    "denominator = drunkdracc * nondrunkdrivingacc \n",
    "numerator = drunkdracc + nondrunkdrivingacc\n",
    "shared_sample_freq = (nondrunkdrivingacccsdeath + infl) / denominator\n",
    "shared_sample_variance = numerator * (shared_sample_freq * (1 - shared_sample_freq)) / denominator\n",
    "difference_in_proportions = stats.norm(0, np.sqrt(shared_sample_variance))\n",
    "difference_in_sample_proportions = (nondrunkdrivingacccsdeath/nondrunkdrivingacc)/(infl/drunkdracc)\n",
    "\n",
    "p_value = 1 - difference_in_proportions.cdf(difference_in_sample_proportions)\n",
    "print(p_value)"
   ]
  },
  {
   "cell_type": "code",
   "execution_count": 10,
   "metadata": {},
   "outputs": [
    {
     "name": "stdout",
     "output_type": "stream",
     "text": [
      "0.14145516074450085\n",
      "serious injury driving accidents invoving drunk / drunk driving accidents:  0.04487385936661299\n",
      "serious injury driving accidents not involving drunk/ non drunk driving accidents:  0.014276220940710039\n"
     ]
    }
   ],
   "source": [
    "seriousinjury = file[((file['UNDERINFL'] == 'Y') & (file['SERIOUSINJURIES'] > 0) )| ((file['UNDERINFL'] == '1') & (file['SERIOUSINJURIES'] > 0))].shape[0]\n",
    "totalseriousinjury = file[file['SERIOUSINJURIES'] > 0].shape[0]\n",
    "seriousinjurynondrunk = file[((file['UNDERINFL'] == 'N') & (file['SERIOUSINJURIES'] > 0) )| ((file['UNDERINFL'] == '0') & (file['SERIOUSINJURIES'] > 0))].shape[0]\n",
    "print(seriousinjury/totalseriousinjury)\n",
    "print('serious injury driving accidents invoving drunk / drunk driving accidents: ',seriousinjury/drunkdracc)\n",
    "print('serious injury driving accidents not involving drunk/ non drunk driving accidents: ',seriousinjurynondrunk/nondrunkdrivingacc)"
   ]
  },
  {
   "cell_type": "code",
   "execution_count": 11,
   "metadata": {},
   "outputs": [
    {
     "name": "stdout",
     "output_type": "stream",
     "text": [
      "0.06567435901758172\n",
      "0.41825013419216317\n",
      "0.3051563344746801\n"
     ]
    }
   ],
   "source": [
    "injury = file[((file['UNDERINFL'] == 'Y') & (file['INJURIES'] > 0) )| ((file['UNDERINFL'] == '1') & (file['INJURIES'] > 0))].shape[0]\n",
    "injurynondrunk = file[((file['UNDERINFL'] == 'N') & (file['INJURIES'] > 0) )| ((file['UNDERINFL'] == '0') & (file['INJURIES'] > 0))].shape[0]\n",
    "totalinjury = file[file['INJURIES'] > 0].shape[0]\n",
    "print(injury/totalinjury)\n",
    "print(injury/drunkdracc)\n",
    "print(injurynondrunk/nondrunkdrivingacc)"
   ]
  },
  {
   "cell_type": "code",
   "execution_count": 12,
   "metadata": {},
   "outputs": [
    {
     "name": "stdout",
     "output_type": "stream",
     "text": [
      "car accidents involving drunk driver that injury someone 3896\n",
      "car accidents involving non drunk driver that injury someone 54186\n",
      "car accidents involving drunk driver 9315\n",
      "car accidents involving sober driver 177568\n"
     ]
    }
   ],
   "source": [
    "print('car accidents involving drunk driver that injury someone',injury)\n",
    "print('car accidents involving non drunk driver that injury someone',injurynondrunk)\n",
    "print('car accidents involving drunk driver',drunkdracc)\n",
    "print('car accidents involving sober driver',nondrunkdrivingacc)\n",
    "denominator = drunkdracc * nondrunkdrivingacc \n",
    "numerator = drunkdracc + nondrunkdrivingacc"
   ]
  },
  {
   "cell_type": "code",
   "execution_count": 13,
   "metadata": {},
   "outputs": [
    {
     "name": "stdout",
     "output_type": "stream",
     "text": [
      "115\n",
      "191\n",
      "823\n",
      "2050\n",
      "6673\n",
      "50121\n"
     ]
    }
   ],
   "source": [
    "\n",
    "#file['ST_COLCODE'] = pd.to_numeric(file[file.ST_COLCODE.notnull()])\n",
    "file['ST_COLCODE'] = pd.to_numeric(file['ST_COLCODE'],errors = 'coerce')\n",
    "print(file[(file['FATALITIES'] > 0) & (file['ST_COLCODE'] >= 0) & (file['ST_COLCODE'] <= 5)].groupby('ST_COLCODE').count()['X'].sum())\n",
    "print(file[(file['FATALITIES'] > 0) & (file['ST_COLCODE'] >= 10)].groupby('ST_COLCODE').count()['X'].sum())\n",
    "print(file[(file['SERIOUSINJURIES'] > 0) & (file['ST_COLCODE'] >= 0) & (file['ST_COLCODE'] <= 5)].groupby('ST_COLCODE').count()['X'].sum())\n",
    "print(file[(file['SERIOUSINJURIES'] > 0) & (file['ST_COLCODE'] >= 10)].groupby('ST_COLCODE').count()['X'].sum())\n",
    "print(file[(file['INJURIES'] > 0) & (file['ST_COLCODE'] >= 0) & (file['ST_COLCODE'] <= 5)].groupby('ST_COLCODE').count()['X'].sum())\n",
    "print(file[(file['INJURIES'] > 0) & (file['ST_COLCODE'] >= 10)].groupby('ST_COLCODE').count()['X'].sum())"
   ]
  },
  {
   "cell_type": "code",
   "execution_count": null,
   "metadata": {
    "collapsed": true
   },
   "outputs": [],
   "source": []
  },
  {
   "cell_type": "code",
   "execution_count": null,
   "metadata": {
    "collapsed": true
   },
   "outputs": [],
   "source": []
  },
  {
   "cell_type": "code",
   "execution_count": null,
   "metadata": {
    "collapsed": true
   },
   "outputs": [],
   "source": []
  },
  {
   "cell_type": "code",
   "execution_count": 15,
   "metadata": {
    "scrolled": true
   },
   "outputs": [
    {
     "data": {
      "text/html": [
       "<div>\n",
       "<style>\n",
       "    .dataframe thead tr:only-child th {\n",
       "        text-align: right;\n",
       "    }\n",
       "\n",
       "    .dataframe thead th {\n",
       "        text-align: left;\n",
       "    }\n",
       "\n",
       "    .dataframe tbody tr th {\n",
       "        vertical-align: top;\n",
       "    }\n",
       "</style>\n",
       "<table border=\"1\" class=\"dataframe\">\n",
       "  <thead>\n",
       "    <tr style=\"text-align: right;\">\n",
       "      <th></th>\n",
       "      <th>X</th>\n",
       "      <th>Y</th>\n",
       "      <th>state</th>\n",
       "    </tr>\n",
       "  </thead>\n",
       "  <tbody>\n",
       "    <tr>\n",
       "      <th>0</th>\n",
       "      <td>-122.270834</td>\n",
       "      <td>47.539355</td>\n",
       "      <td>WA</td>\n",
       "    </tr>\n",
       "    <tr>\n",
       "      <th>1</th>\n",
       "      <td>-122.306332</td>\n",
       "      <td>47.606167</td>\n",
       "      <td>WA</td>\n",
       "    </tr>\n",
       "    <tr>\n",
       "      <th>2</th>\n",
       "      <td>-122.269611</td>\n",
       "      <td>47.516849</td>\n",
       "      <td>WA</td>\n",
       "    </tr>\n",
       "    <tr>\n",
       "      <th>3</th>\n",
       "      <td>-122.307505</td>\n",
       "      <td>47.612898</td>\n",
       "      <td>WA</td>\n",
       "    </tr>\n",
       "    <tr>\n",
       "      <th>4</th>\n",
       "      <td>-122.312430</td>\n",
       "      <td>47.708528</td>\n",
       "      <td>WA</td>\n",
       "    </tr>\n",
       "    <tr>\n",
       "      <th>5</th>\n",
       "      <td>-122.328079</td>\n",
       "      <td>47.604161</td>\n",
       "      <td>WA</td>\n",
       "    </tr>\n",
       "    <tr>\n",
       "      <th>6</th>\n",
       "      <td>-122.368598</td>\n",
       "      <td>47.670894</td>\n",
       "      <td>WA</td>\n",
       "    </tr>\n",
       "    <tr>\n",
       "      <th>7</th>\n",
       "      <td>-122.344507</td>\n",
       "      <td>47.687665</td>\n",
       "      <td>WA</td>\n",
       "    </tr>\n",
       "    <tr>\n",
       "      <th>8</th>\n",
       "      <td>-122.334266</td>\n",
       "      <td>47.733225</td>\n",
       "      <td>WA</td>\n",
       "    </tr>\n",
       "    <tr>\n",
       "      <th>9</th>\n",
       "      <td>-122.380504</td>\n",
       "      <td>47.672365</td>\n",
       "      <td>WA</td>\n",
       "    </tr>\n",
       "    <tr>\n",
       "      <th>10</th>\n",
       "      <td>-122.309476</td>\n",
       "      <td>47.664876</td>\n",
       "      <td>WA</td>\n",
       "    </tr>\n",
       "    <tr>\n",
       "      <th>11</th>\n",
       "      <td>-122.280463</td>\n",
       "      <td>47.634129</td>\n",
       "      <td>WA</td>\n",
       "    </tr>\n",
       "    <tr>\n",
       "      <th>12</th>\n",
       "      <td>-122.325489</td>\n",
       "      <td>47.672548</td>\n",
       "      <td>WA</td>\n",
       "    </tr>\n",
       "    <tr>\n",
       "      <th>13</th>\n",
       "      <td>-122.335586</td>\n",
       "      <td>47.603982</td>\n",
       "      <td>WA</td>\n",
       "    </tr>\n",
       "    <tr>\n",
       "      <th>14</th>\n",
       "      <td>-122.291988</td>\n",
       "      <td>47.722732</td>\n",
       "      <td>WA</td>\n",
       "    </tr>\n",
       "    <tr>\n",
       "      <th>15</th>\n",
       "      <td>-122.307505</td>\n",
       "      <td>47.612898</td>\n",
       "      <td>WA</td>\n",
       "    </tr>\n",
       "    <tr>\n",
       "      <th>16</th>\n",
       "      <td>-122.294697</td>\n",
       "      <td>47.720185</td>\n",
       "      <td>WA</td>\n",
       "    </tr>\n",
       "    <tr>\n",
       "      <th>17</th>\n",
       "      <td>-122.325139</td>\n",
       "      <td>47.609338</td>\n",
       "      <td>WA</td>\n",
       "    </tr>\n",
       "    <tr>\n",
       "      <th>18</th>\n",
       "      <td>-122.359586</td>\n",
       "      <td>47.659583</td>\n",
       "      <td>WA</td>\n",
       "    </tr>\n",
       "    <tr>\n",
       "      <th>19</th>\n",
       "      <td>-122.293113</td>\n",
       "      <td>47.546179</td>\n",
       "      <td>WA</td>\n",
       "    </tr>\n",
       "    <tr>\n",
       "      <th>20</th>\n",
       "      <td>-122.323966</td>\n",
       "      <td>47.606374</td>\n",
       "      <td>WA</td>\n",
       "    </tr>\n",
       "    <tr>\n",
       "      <th>21</th>\n",
       "      <td>-122.334695</td>\n",
       "      <td>47.539893</td>\n",
       "      <td>WA</td>\n",
       "    </tr>\n",
       "    <tr>\n",
       "      <th>22</th>\n",
       "      <td>-122.333368</td>\n",
       "      <td>47.617329</td>\n",
       "      <td>WA</td>\n",
       "    </tr>\n",
       "    <tr>\n",
       "      <th>23</th>\n",
       "      <td>-122.307487</td>\n",
       "      <td>47.592295</td>\n",
       "      <td>WA</td>\n",
       "    </tr>\n",
       "    <tr>\n",
       "      <th>24</th>\n",
       "      <td>-122.344353</td>\n",
       "      <td>47.613271</td>\n",
       "      <td>WA</td>\n",
       "    </tr>\n",
       "    <tr>\n",
       "      <th>25</th>\n",
       "      <td>-122.319645</td>\n",
       "      <td>47.597509</td>\n",
       "      <td>WA</td>\n",
       "    </tr>\n",
       "    <tr>\n",
       "      <th>26</th>\n",
       "      <td>-122.347420</td>\n",
       "      <td>47.615085</td>\n",
       "      <td>WA</td>\n",
       "    </tr>\n",
       "    <tr>\n",
       "      <th>27</th>\n",
       "      <td>-122.348226</td>\n",
       "      <td>47.624563</td>\n",
       "      <td>WA</td>\n",
       "    </tr>\n",
       "    <tr>\n",
       "      <th>28</th>\n",
       "      <td>-122.301424</td>\n",
       "      <td>47.566103</td>\n",
       "      <td>WA</td>\n",
       "    </tr>\n",
       "    <tr>\n",
       "      <th>29</th>\n",
       "      <td>-122.334212</td>\n",
       "      <td>47.549380</td>\n",
       "      <td>WA</td>\n",
       "    </tr>\n",
       "    <tr>\n",
       "      <th>...</th>\n",
       "      <td>...</td>\n",
       "      <td>...</td>\n",
       "      <td>...</td>\n",
       "    </tr>\n",
       "    <tr>\n",
       "      <th>71</th>\n",
       "      <td>NaN</td>\n",
       "      <td>NaN</td>\n",
       "      <td>WA</td>\n",
       "    </tr>\n",
       "    <tr>\n",
       "      <th>72</th>\n",
       "      <td>-122.312639</td>\n",
       "      <td>47.658308</td>\n",
       "      <td>WA</td>\n",
       "    </tr>\n",
       "    <tr>\n",
       "      <th>73</th>\n",
       "      <td>-122.305539</td>\n",
       "      <td>47.588076</td>\n",
       "      <td>WA</td>\n",
       "    </tr>\n",
       "    <tr>\n",
       "      <th>74</th>\n",
       "      <td>-122.319641</td>\n",
       "      <td>47.597082</td>\n",
       "      <td>WA</td>\n",
       "    </tr>\n",
       "    <tr>\n",
       "      <th>75</th>\n",
       "      <td>-122.285281</td>\n",
       "      <td>47.545694</td>\n",
       "      <td>WA</td>\n",
       "    </tr>\n",
       "    <tr>\n",
       "      <th>76</th>\n",
       "      <td>-122.323438</td>\n",
       "      <td>47.616364</td>\n",
       "      <td>WA</td>\n",
       "    </tr>\n",
       "    <tr>\n",
       "      <th>77</th>\n",
       "      <td>-122.363032</td>\n",
       "      <td>47.548385</td>\n",
       "      <td>WA</td>\n",
       "    </tr>\n",
       "    <tr>\n",
       "      <th>78</th>\n",
       "      <td>-122.320739</td>\n",
       "      <td>47.602195</td>\n",
       "      <td>WA</td>\n",
       "    </tr>\n",
       "    <tr>\n",
       "      <th>79</th>\n",
       "      <td>-122.320760</td>\n",
       "      <td>47.611169</td>\n",
       "      <td>WA</td>\n",
       "    </tr>\n",
       "    <tr>\n",
       "      <th>80</th>\n",
       "      <td>-122.347621</td>\n",
       "      <td>47.618571</td>\n",
       "      <td>WA</td>\n",
       "    </tr>\n",
       "    <tr>\n",
       "      <th>81</th>\n",
       "      <td>-122.350022</td>\n",
       "      <td>47.571671</td>\n",
       "      <td>WA</td>\n",
       "    </tr>\n",
       "    <tr>\n",
       "      <th>82</th>\n",
       "      <td>-122.321592</td>\n",
       "      <td>47.601702</td>\n",
       "      <td>WA</td>\n",
       "    </tr>\n",
       "    <tr>\n",
       "      <th>83</th>\n",
       "      <td>-122.312857</td>\n",
       "      <td>47.599218</td>\n",
       "      <td>WA</td>\n",
       "    </tr>\n",
       "    <tr>\n",
       "      <th>84</th>\n",
       "      <td>-122.301414</td>\n",
       "      <td>47.660391</td>\n",
       "      <td>WA</td>\n",
       "    </tr>\n",
       "    <tr>\n",
       "      <th>85</th>\n",
       "      <td>-122.346263</td>\n",
       "      <td>47.624988</td>\n",
       "      <td>WA</td>\n",
       "    </tr>\n",
       "    <tr>\n",
       "      <th>86</th>\n",
       "      <td>-122.363143</td>\n",
       "      <td>47.629166</td>\n",
       "      <td>WA</td>\n",
       "    </tr>\n",
       "    <tr>\n",
       "      <th>87</th>\n",
       "      <td>-122.362931</td>\n",
       "      <td>47.556356</td>\n",
       "      <td>WA</td>\n",
       "    </tr>\n",
       "    <tr>\n",
       "      <th>88</th>\n",
       "      <td>-122.317553</td>\n",
       "      <td>47.686732</td>\n",
       "      <td>WA</td>\n",
       "    </tr>\n",
       "    <tr>\n",
       "      <th>89</th>\n",
       "      <td>-122.325510</td>\n",
       "      <td>47.613533</td>\n",
       "      <td>WA</td>\n",
       "    </tr>\n",
       "    <tr>\n",
       "      <th>90</th>\n",
       "      <td>-122.370767</td>\n",
       "      <td>47.568425</td>\n",
       "      <td>WA</td>\n",
       "    </tr>\n",
       "    <tr>\n",
       "      <th>91</th>\n",
       "      <td>-122.380092</td>\n",
       "      <td>47.562873</td>\n",
       "      <td>WA</td>\n",
       "    </tr>\n",
       "    <tr>\n",
       "      <th>92</th>\n",
       "      <td>-122.322305</td>\n",
       "      <td>47.675109</td>\n",
       "      <td>WA</td>\n",
       "    </tr>\n",
       "    <tr>\n",
       "      <th>93</th>\n",
       "      <td>-122.305743</td>\n",
       "      <td>47.556568</td>\n",
       "      <td>WA</td>\n",
       "    </tr>\n",
       "    <tr>\n",
       "      <th>94</th>\n",
       "      <td>-122.358697</td>\n",
       "      <td>47.620948</td>\n",
       "      <td>WA</td>\n",
       "    </tr>\n",
       "    <tr>\n",
       "      <th>95</th>\n",
       "      <td>-122.313277</td>\n",
       "      <td>47.655669</td>\n",
       "      <td>WA</td>\n",
       "    </tr>\n",
       "    <tr>\n",
       "      <th>96</th>\n",
       "      <td>-122.285051</td>\n",
       "      <td>47.567923</td>\n",
       "      <td>WA</td>\n",
       "    </tr>\n",
       "    <tr>\n",
       "      <th>97</th>\n",
       "      <td>-122.308789</td>\n",
       "      <td>47.679432</td>\n",
       "      <td>WA</td>\n",
       "    </tr>\n",
       "    <tr>\n",
       "      <th>98</th>\n",
       "      <td>-122.300610</td>\n",
       "      <td>47.667121</td>\n",
       "      <td>WA</td>\n",
       "    </tr>\n",
       "    <tr>\n",
       "      <th>99</th>\n",
       "      <td>-122.333430</td>\n",
       "      <td>47.608336</td>\n",
       "      <td>WA</td>\n",
       "    </tr>\n",
       "    <tr>\n",
       "      <th>100</th>\n",
       "      <td>-122.335124</td>\n",
       "      <td>47.582939</td>\n",
       "      <td>WA</td>\n",
       "    </tr>\n",
       "  </tbody>\n",
       "</table>\n",
       "<p>101 rows × 3 columns</p>\n",
       "</div>"
      ],
      "text/plain": [
       "              X          Y state\n",
       "0   -122.270834  47.539355    WA\n",
       "1   -122.306332  47.606167    WA\n",
       "2   -122.269611  47.516849    WA\n",
       "3   -122.307505  47.612898    WA\n",
       "4   -122.312430  47.708528    WA\n",
       "5   -122.328079  47.604161    WA\n",
       "6   -122.368598  47.670894    WA\n",
       "7   -122.344507  47.687665    WA\n",
       "8   -122.334266  47.733225    WA\n",
       "9   -122.380504  47.672365    WA\n",
       "10  -122.309476  47.664876    WA\n",
       "11  -122.280463  47.634129    WA\n",
       "12  -122.325489  47.672548    WA\n",
       "13  -122.335586  47.603982    WA\n",
       "14  -122.291988  47.722732    WA\n",
       "15  -122.307505  47.612898    WA\n",
       "16  -122.294697  47.720185    WA\n",
       "17  -122.325139  47.609338    WA\n",
       "18  -122.359586  47.659583    WA\n",
       "19  -122.293113  47.546179    WA\n",
       "20  -122.323966  47.606374    WA\n",
       "21  -122.334695  47.539893    WA\n",
       "22  -122.333368  47.617329    WA\n",
       "23  -122.307487  47.592295    WA\n",
       "24  -122.344353  47.613271    WA\n",
       "25  -122.319645  47.597509    WA\n",
       "26  -122.347420  47.615085    WA\n",
       "27  -122.348226  47.624563    WA\n",
       "28  -122.301424  47.566103    WA\n",
       "29  -122.334212  47.549380    WA\n",
       "..          ...        ...   ...\n",
       "71          NaN        NaN    WA\n",
       "72  -122.312639  47.658308    WA\n",
       "73  -122.305539  47.588076    WA\n",
       "74  -122.319641  47.597082    WA\n",
       "75  -122.285281  47.545694    WA\n",
       "76  -122.323438  47.616364    WA\n",
       "77  -122.363032  47.548385    WA\n",
       "78  -122.320739  47.602195    WA\n",
       "79  -122.320760  47.611169    WA\n",
       "80  -122.347621  47.618571    WA\n",
       "81  -122.350022  47.571671    WA\n",
       "82  -122.321592  47.601702    WA\n",
       "83  -122.312857  47.599218    WA\n",
       "84  -122.301414  47.660391    WA\n",
       "85  -122.346263  47.624988    WA\n",
       "86  -122.363143  47.629166    WA\n",
       "87  -122.362931  47.556356    WA\n",
       "88  -122.317553  47.686732    WA\n",
       "89  -122.325510  47.613533    WA\n",
       "90  -122.370767  47.568425    WA\n",
       "91  -122.380092  47.562873    WA\n",
       "92  -122.322305  47.675109    WA\n",
       "93  -122.305743  47.556568    WA\n",
       "94  -122.358697  47.620948    WA\n",
       "95  -122.313277  47.655669    WA\n",
       "96  -122.285051  47.567923    WA\n",
       "97  -122.308789  47.679432    WA\n",
       "98  -122.300610  47.667121    WA\n",
       "99  -122.333430  47.608336    WA\n",
       "100 -122.335124  47.582939    WA\n",
       "\n",
       "[101 rows x 3 columns]"
      ]
     },
     "execution_count": 15,
     "metadata": {},
     "output_type": "execute_result"
    }
   ],
   "source": [
    "latlong= file.iloc[0:101,0:2]\n",
    "latlong['state'] = 'WA'\n",
    "latlong\n",
    "#trying to get all the zipcodes of data"
   ]
  },
  {
   "cell_type": "code",
   "execution_count": 87,
   "metadata": {},
   "outputs": [],
   "source": [
    "file2 = file.copy()\n",
    "#file2['INCDTTM'].str.contains('AM|PM',regex=True)\n",
    "#test2 =file2['INCDTTM']\n",
    "#test3 =test2[file2['INCDTTM'].str.contains('AM|PM',regex=True)]\n",
    "#print(type(datetime.datetime.strptime('7/4/2019','%m/%d/%Y')))"
   ]
  },
  {
   "cell_type": "code",
   "execution_count": 42,
   "metadata": {},
   "outputs": [],
   "source": [
    "for idx, my_date in enumerate(test2):\n",
    "    try:\n",
    "        file2.loc[idx,'INCDTTM'] = datetime.datetime.strptime(my_date,'%m/%d/%Y %I:%M:%S %p')\n",
    "    except:\n",
    "        file2.loc[idx,'INCDTTM'] = datetime.datetime.strptime(my_date,'%m/%d/%Y')"
   ]
  },
  {
   "cell_type": "code",
   "execution_count": 38,
   "metadata": {},
   "outputs": [
    {
     "name": "stdout",
     "output_type": "stream",
     "text": [
      "7674\n"
     ]
    }
   ],
   "source": [
    "for i in range(212604):\n",
    "    if not isinstance(file2.loc[i,'INCDTTM'], datetime.datetime):\n",
    "        print(i)\n",
    "        break"
   ]
  },
  {
   "cell_type": "code",
   "execution_count": null,
   "metadata": {
    "collapsed": true
   },
   "outputs": [],
   "source": []
  },
  {
   "cell_type": "code",
   "execution_count": 81,
   "metadata": {},
   "outputs": [],
   "source": [
    "#file2.to_csv('data/CollionsWDatetime.csv',index=False)\n",
    "file3 = pd.read_csv('data/CollionsWDatetime.csv')\n",
    "#212604"
   ]
  },
  {
   "cell_type": "code",
   "execution_count": 82,
   "metadata": {},
   "outputs": [
    {
     "data": {
      "text/plain": [
       "0"
      ]
     },
     "execution_count": 82,
     "metadata": {},
     "output_type": "execute_result"
    }
   ],
   "source": [
    "#file3 = file3.dropna(subset=['INCDTTM'])\n",
    "#file3.shape[0]\n",
    "sum(file3['INCDTTM'].isnull())"
   ]
  },
  {
   "cell_type": "code",
   "execution_count": 64,
   "metadata": {},
   "outputs": [],
   "source": [
    "file2.to_pickle('data/CollionsWDatetime.pkl.bz2', compression = 'bz2')"
   ]
  },
  {
   "cell_type": "code",
   "execution_count": 83,
   "metadata": {},
   "outputs": [],
   "source": [
    "def datetimeconversion(row):\n",
    "    try:\n",
    "        return datetime.datetime.strptime(row['INCDTTM'],'%m/%d/%Y %I:%M:%S %p')\n",
    "    except:\n",
    "        return datetime.datetime.strptime(row['INCDTTM'],'%m/%d/%Y')"
   ]
  },
  {
   "cell_type": "code",
   "execution_count": 91,
   "metadata": {},
   "outputs": [
    {
     "name": "stdout",
     "output_type": "stream",
     "text": [
      "<class 'pandas._libs.tslib.Timestamp'>\n"
     ]
    }
   ],
   "source": [
    "file2['INCDTTM']=file2.apply(datetimeconversion, axis=1)\n"
   ]
  },
  {
   "cell_type": "code",
   "execution_count": null,
   "metadata": {},
   "outputs": [],
   "source": []
  },
  {
   "cell_type": "code",
   "execution_count": 150,
   "metadata": {},
   "outputs": [
    {
     "data": {
      "text/plain": [
       "datetime.datetime(2004, 1, 10, 1, 27)"
      ]
     },
     "execution_count": 150,
     "metadata": {},
     "output_type": "execute_result"
    }
   ],
   "source": [
    "test3.min()"
   ]
  },
  {
   "cell_type": "code",
   "execution_count": 151,
   "metadata": {
    "collapsed": true
   },
   "outputs": [],
   "source": []
  },
  {
   "cell_type": "code",
   "execution_count": 152,
   "metadata": {
    "collapsed": true
   },
   "outputs": [],
   "source": []
  },
  {
   "cell_type": "code",
   "execution_count": 161,
   "metadata": {
    "collapsed": true
   },
   "outputs": [],
   "source": []
  },
  {
   "cell_type": "code",
   "execution_count": 162,
   "metadata": {
    "collapsed": true
   },
   "outputs": [],
   "source": []
  },
  {
   "cell_type": "code",
   "execution_count": 163,
   "metadata": {
    "collapsed": true
   },
   "outputs": [],
   "source": []
  },
  {
   "cell_type": "code",
   "execution_count": 164,
   "metadata": {},
   "outputs": [
    {
     "data": {
      "text/plain": [
       "200"
      ]
     },
     "execution_count": 164,
     "metadata": {},
     "output_type": "execute_result"
    }
   ],
   "source": []
  },
  {
   "cell_type": "code",
   "execution_count": 291,
   "metadata": {},
   "outputs": [
    {
     "ename": "NameError",
     "evalue": "name 'r' is not defined",
     "output_type": "error",
     "traceback": [
      "\u001b[0;31m---------------------------------------------------------------------------\u001b[0m",
      "\u001b[0;31mNameError\u001b[0m                                 Traceback (most recent call last)",
      "\u001b[0;32m<ipython-input-291-9869ca2daf96>\u001b[0m in \u001b[0;36m<module>\u001b[0;34m()\u001b[0m\n\u001b[0;32m----> 1\u001b[0;31m \u001b[0mr\u001b[0m\u001b[0;34m.\u001b[0m\u001b[0mcontent\u001b[0m\u001b[0;34m\u001b[0m\u001b[0m\n\u001b[0m",
      "\u001b[0;31mNameError\u001b[0m: name 'r' is not defined"
     ]
    }
   ],
   "source": []
  },
  {
   "cell_type": "code",
   "execution_count": 200,
   "metadata": {},
   "outputs": [
    {
     "data": {
      "text/plain": [
       "dict"
      ]
     },
     "execution_count": 200,
     "metadata": {},
     "output_type": "execute_result"
    }
   ],
   "source": [
    "dic = json.loads(r.content)\n",
    "type(dic)"
   ]
  },
  {
   "cell_type": "code",
   "execution_count": 226,
   "metadata": {
    "collapsed": true
   },
   "outputs": [],
   "source": [
    "def getweather():\n",
    "url = 'https://api.darksky.net/forecast/'\n",
    "with open('data/dark_sky.txt', 'r') as file:\n",
    "    key = file.read()\n",
    "latlong = '/47.44472,-122.31361,'\n",
    "for i in range(5683): #5682 is number of days from beg to end\n",
    "    time = 1389346020 + (i*24*60*60)\n",
    "    strtime = str(time)\n",
    "    finalurl= url+key+latlong+strtime\n",
    "    r = requests.get(finalurl)\n",
    "    dic = json.loads(r.content)\n",
    "    Weather.insert_one(dic)\n",
    " \n",
    "    "
   ]
  },
  {
   "cell_type": "code",
   "execution_count": 292,
   "metadata": {},
   "outputs": [
    {
     "data": {
      "text/plain": [
       "{'_id': ObjectId('5d781b8d4cadcc23e8d2595a'),\n",
       " 'currently': {'apparentTemperature': 41.78,\n",
       "  'cloudCover': 0.75,\n",
       "  'dewPoint': 42.8,\n",
       "  'humidity': 0.9,\n",
       "  'icon': 'partly-cloudy-night',\n",
       "  'precipIntensity': 0,\n",
       "  'precipProbability': 0,\n",
       "  'pressure': 1012.59,\n",
       "  'summary': 'Mostly Cloudy',\n",
       "  'temperature': 45.55,\n",
       "  'time': 1389346020,\n",
       "  'uvIndex': 0,\n",
       "  'visibility': 10,\n",
       "  'windBearing': 202,\n",
       "  'windGust': 15.46,\n",
       "  'windSpeed': 7.1},\n",
       " 'daily': {'data': [{'apparentTemperatureHigh': 46.95,\n",
       "    'apparentTemperatureHighTime': 1389394800,\n",
       "    'apparentTemperatureLow': 39.39,\n",
       "    'apparentTemperatureLowTime': 1389456000,\n",
       "    'apparentTemperatureMax': 51.81,\n",
       "    'apparentTemperatureMaxTime': 1389423600,\n",
       "    'apparentTemperatureMin': 41.71,\n",
       "    'apparentTemperatureMinTime': 1389348000,\n",
       "    'cloudCover': 0.96,\n",
       "    'dewPoint': 42.57,\n",
       "    'humidity': 0.85,\n",
       "    'icon': 'rain',\n",
       "    'moonPhase': 0.35,\n",
       "    'precipIntensity': 0.0048,\n",
       "    'precipIntensityMax': 0.03,\n",
       "    'precipIntensityMaxTime': 1389409200,\n",
       "    'precipProbability': 1,\n",
       "    'precipType': 'rain',\n",
       "    'pressure': 1014.09,\n",
       "    'summary': 'Light rain until morning, starting again in the evening.',\n",
       "    'sunriseTime': 1389369352,\n",
       "    'sunsetTime': 1389400810,\n",
       "    'temperatureHigh': 48.22,\n",
       "    'temperatureHighTime': 1389391200,\n",
       "    'temperatureLow': 44.38,\n",
       "    'temperatureLowTime': 1389456000,\n",
       "    'temperatureMax': 51.81,\n",
       "    'temperatureMaxTime': 1389423600,\n",
       "    'temperatureMin': 45.44,\n",
       "    'temperatureMinTime': 1389348000,\n",
       "    'time': 1389340800,\n",
       "    'uvIndex': 1,\n",
       "    'uvIndexTime': 1389384000,\n",
       "    'visibility': 9.873,\n",
       "    'windBearing': 194,\n",
       "    'windGust': 20.73,\n",
       "    'windGustTime': 1389376800,\n",
       "    'windSpeed': 5.61}]},\n",
       " 'flags': {'nearest-station': 0.037,\n",
       "  'sources': ['cmc', 'gfs', 'hrrr', 'icon', 'isd', 'madis', 'nam', 'sref'],\n",
       "  'units': 'us'},\n",
       " 'hourly': {'data': [{'apparentTemperature': 41.82,\n",
       "    'cloudCover': 0.75,\n",
       "    'dewPoint': 42.8,\n",
       "    'humidity': 0.89,\n",
       "    'icon': 'partly-cloudy-night',\n",
       "    'precipIntensity': 0,\n",
       "    'precipProbability': 0,\n",
       "    'pressure': 1011.21,\n",
       "    'summary': 'Mostly Cloudy',\n",
       "    'temperature': 45.72,\n",
       "    'time': 1389340800,\n",
       "    'uvIndex': 0,\n",
       "    'visibility': 9.997,\n",
       "    'windBearing': 205,\n",
       "    'windGust': 14.25,\n",
       "    'windSpeed': 7.42},\n",
       "   {'apparentTemperature': 41.84,\n",
       "    'cloudCover': 0.75,\n",
       "    'dewPoint': 42.8,\n",
       "    'humidity': 0.9,\n",
       "    'icon': 'partly-cloudy-night',\n",
       "    'precipIntensity': 0,\n",
       "    'precipProbability': 0,\n",
       "    'pressure': 1012.09,\n",
       "    'summary': 'Mostly Cloudy',\n",
       "    'temperature': 45.65,\n",
       "    'time': 1389344400,\n",
       "    'uvIndex': 0,\n",
       "    'visibility': 10,\n",
       "    'windBearing': 206,\n",
       "    'windGust': 15.86,\n",
       "    'windSpeed': 7.21},\n",
       "   {'apparentTemperature': 41.71,\n",
       "    'cloudCover': 0.75,\n",
       "    'dewPoint': 42.8,\n",
       "    'humidity': 0.9,\n",
       "    'icon': 'partly-cloudy-night',\n",
       "    'precipIntensity': 0,\n",
       "    'precipProbability': 0,\n",
       "    'pressure': 1013.2,\n",
       "    'summary': 'Mostly Cloudy',\n",
       "    'temperature': 45.44,\n",
       "    'time': 1389348000,\n",
       "    'uvIndex': 0,\n",
       "    'visibility': 9.997,\n",
       "    'windBearing': 198,\n",
       "    'windGust': 14.96,\n",
       "    'windSpeed': 6.96},\n",
       "   {'apparentTemperature': 42.95,\n",
       "    'cloudCover': 0.75,\n",
       "    'dewPoint': 41,\n",
       "    'humidity': 0.81,\n",
       "    'icon': 'partly-cloudy-night',\n",
       "    'precipIntensity': 0,\n",
       "    'precipProbability': 0,\n",
       "    'pressure': 1014.39,\n",
       "    'summary': 'Mostly Cloudy',\n",
       "    'temperature': 46.42,\n",
       "    'time': 1389351600,\n",
       "    'uvIndex': 0,\n",
       "    'visibility': 9.997,\n",
       "    'windBearing': 199,\n",
       "    'windGust': 15.2,\n",
       "    'windSpeed': 6.86},\n",
       "   {'apparentTemperature': 42.74,\n",
       "    'cloudCover': 1,\n",
       "    'dewPoint': 42.8,\n",
       "    'humidity': 0.87,\n",
       "    'icon': 'cloudy',\n",
       "    'precipIntensity': 0,\n",
       "    'precipProbability': 0,\n",
       "    'pressure': 1015.42,\n",
       "    'summary': 'Overcast',\n",
       "    'temperature': 46.42,\n",
       "    'time': 1389355200,\n",
       "    'uvIndex': 0,\n",
       "    'visibility': 9.997,\n",
       "    'windBearing': 231,\n",
       "    'windGust': 15.41,\n",
       "    'windSpeed': 7.28},\n",
       "   {'apparentTemperature': 42.71,\n",
       "    'cloudCover': 1,\n",
       "    'dewPoint': 42.8,\n",
       "    'humidity': 0.87,\n",
       "    'icon': 'cloudy',\n",
       "    'precipIntensity': 0,\n",
       "    'precipProbability': 0,\n",
       "    'pressure': 1015.92,\n",
       "    'summary': 'Overcast',\n",
       "    'temperature': 46.42,\n",
       "    'time': 1389358800,\n",
       "    'uvIndex': 0,\n",
       "    'visibility': 9.997,\n",
       "    'windBearing': 217,\n",
       "    'windGust': 15.99,\n",
       "    'windSpeed': 7.34},\n",
       "   {'apparentTemperature': 42.81,\n",
       "    'cloudCover': 1,\n",
       "    'dewPoint': 41,\n",
       "    'humidity': 0.81,\n",
       "    'icon': 'cloudy',\n",
       "    'precipIntensity': 0,\n",
       "    'precipProbability': 0,\n",
       "    'pressure': 1016.5,\n",
       "    'summary': 'Overcast',\n",
       "    'temperature': 46.42,\n",
       "    'time': 1389362400,\n",
       "    'uvIndex': 0,\n",
       "    'visibility': 9.997,\n",
       "    'windBearing': 192,\n",
       "    'windGust': 15.66,\n",
       "    'windSpeed': 7.14},\n",
       "   {'apparentTemperature': 42.95,\n",
       "    'cloudCover': 1,\n",
       "    'dewPoint': 41,\n",
       "    'humidity': 0.81,\n",
       "    'icon': 'cloudy',\n",
       "    'precipIntensity': 0,\n",
       "    'precipProbability': 0,\n",
       "    'pressure': 1017.31,\n",
       "    'summary': 'Overcast',\n",
       "    'temperature': 46.42,\n",
       "    'time': 1389366000,\n",
       "    'uvIndex': 0,\n",
       "    'visibility': 9.997,\n",
       "    'windBearing': 191,\n",
       "    'windGust': 15.08,\n",
       "    'windSpeed': 6.86},\n",
       "   {'apparentTemperature': 43.12,\n",
       "    'cloudCover': 1,\n",
       "    'dewPoint': 42.8,\n",
       "    'humidity': 0.87,\n",
       "    'icon': 'cloudy',\n",
       "    'precipIntensity': 0,\n",
       "    'precipProbability': 0,\n",
       "    'pressure': 1017.89,\n",
       "    'summary': 'Overcast',\n",
       "    'temperature': 46.42,\n",
       "    'time': 1389369600,\n",
       "    'uvIndex': 0,\n",
       "    'visibility': 9.997,\n",
       "    'windBearing': 212,\n",
       "    'windGust': 14.31,\n",
       "    'windSpeed': 6.52},\n",
       "   {'apparentTemperature': 43.25,\n",
       "    'cloudCover': 1,\n",
       "    'dewPoint': 42.8,\n",
       "    'humidity': 0.87,\n",
       "    'icon': 'cloudy',\n",
       "    'precipIntensity': 0,\n",
       "    'precipProbability': 0,\n",
       "    'pressure': 1019.61,\n",
       "    'summary': 'Overcast',\n",
       "    'temperature': 46.42,\n",
       "    'time': 1389373200,\n",
       "    'uvIndex': 0,\n",
       "    'visibility': 9.997,\n",
       "    'windBearing': 215,\n",
       "    'windGust': 13.36,\n",
       "    'windSpeed': 6.28},\n",
       "   {'apparentTemperature': 43.64,\n",
       "    'cloudCover': 1,\n",
       "    'dewPoint': 42.8,\n",
       "    'humidity': 0.87,\n",
       "    'icon': 'cloudy',\n",
       "    'precipIntensity': 0,\n",
       "    'precipProbability': 0,\n",
       "    'pressure': 1019.89,\n",
       "    'summary': 'Overcast',\n",
       "    'temperature': 46.42,\n",
       "    'time': 1389376800,\n",
       "    'uvIndex': 0,\n",
       "    'visibility': 10,\n",
       "    'windBearing': 222,\n",
       "    'windGust': 20.73,\n",
       "    'windSpeed': 5.6},\n",
       "   {'apparentTemperature': 43.35,\n",
       "    'cloudCover': 1,\n",
       "    'dewPoint': 42.8,\n",
       "    'humidity': 0.89,\n",
       "    'icon': 'cloudy',\n",
       "    'precipIntensity': 0,\n",
       "    'precipProbability': 0,\n",
       "    'pressure': 1020.01,\n",
       "    'summary': 'Overcast',\n",
       "    'temperature': 46,\n",
       "    'time': 1389380400,\n",
       "    'uvIndex': 1,\n",
       "    'visibility': 10,\n",
       "    'windBearing': 226,\n",
       "    'windGust': 10.8,\n",
       "    'windSpeed': 5.25},\n",
       "   {'apparentTemperature': 44.01,\n",
       "    'cloudCover': 1,\n",
       "    'dewPoint': 42.8,\n",
       "    'humidity': 0.87,\n",
       "    'icon': 'cloudy',\n",
       "    'precipIntensity': 0,\n",
       "    'precipProbability': 0,\n",
       "    'pressure': 1018.99,\n",
       "    'summary': 'Overcast',\n",
       "    'temperature': 46.36,\n",
       "    'time': 1389384000,\n",
       "    'uvIndex': 1,\n",
       "    'visibility': 10,\n",
       "    'windBearing': 229,\n",
       "    'windGust': 10.13,\n",
       "    'windSpeed': 4.89},\n",
       "   {'apparentTemperature': 44.74,\n",
       "    'cloudCover': 1,\n",
       "    'dewPoint': 42.8,\n",
       "    'humidity': 0.86,\n",
       "    'icon': 'cloudy',\n",
       "    'precipIntensity': 0,\n",
       "    'precipProbability': 0,\n",
       "    'pressure': 1018.3,\n",
       "    'summary': 'Overcast',\n",
       "    'temperature': 46.76,\n",
       "    'time': 1389387600,\n",
       "    'uvIndex': 1,\n",
       "    'visibility': 9.997,\n",
       "    'windBearing': 213,\n",
       "    'windGust': 10.01,\n",
       "    'windSpeed': 4.51},\n",
       "   {'apparentTemperature': 46.58,\n",
       "    'cloudCover': 1,\n",
       "    'dewPoint': 42.8,\n",
       "    'humidity': 0.81,\n",
       "    'icon': 'cloudy',\n",
       "    'precipIntensity': 0,\n",
       "    'precipProbability': 0,\n",
       "    'pressure': 1017.2,\n",
       "    'summary': 'Overcast',\n",
       "    'temperature': 48.22,\n",
       "    'time': 1389391200,\n",
       "    'uvIndex': 1,\n",
       "    'visibility': 10,\n",
       "    'windBearing': 192,\n",
       "    'windGust': 9.31,\n",
       "    'windSpeed': 4.32},\n",
       "   {'apparentTemperature': 46.95,\n",
       "    'cloudCover': 1,\n",
       "    'dewPoint': 42.8,\n",
       "    'humidity': 0.81,\n",
       "    'icon': 'cloudy',\n",
       "    'precipIntensity': 0,\n",
       "    'precipProbability': 0,\n",
       "    'pressure': 1016.28,\n",
       "    'summary': 'Overcast',\n",
       "    'temperature': 48.22,\n",
       "    'time': 1389394800,\n",
       "    'uvIndex': 0,\n",
       "    'visibility': 9.997,\n",
       "    'windBearing': 187,\n",
       "    'windGust': 8.04,\n",
       "    'windSpeed': 3.83},\n",
       "   {'apparentTemperature': 45.53,\n",
       "    'cloudCover': 1,\n",
       "    'dewPoint': 42.8,\n",
       "    'humidity': 0.87,\n",
       "    'icon': 'cloudy',\n",
       "    'precipIntensity': 0,\n",
       "    'precipProbability': 0,\n",
       "    'pressure': 1015.4,\n",
       "    'summary': 'Overcast',\n",
       "    'temperature': 46.44,\n",
       "    'time': 1389398400,\n",
       "    'uvIndex': 0,\n",
       "    'visibility': 9.997,\n",
       "    'windBearing': 180,\n",
       "    'windGust': 6.24,\n",
       "    'windSpeed': 3.12},\n",
       "   {'apparentTemperature': 44.48,\n",
       "    'cloudCover': 1,\n",
       "    'dewPoint': 41,\n",
       "    'humidity': 0.84,\n",
       "    'icon': 'rain',\n",
       "    'precipIntensity': 0.01,\n",
       "    'precipProbability': 1,\n",
       "    'precipType': 'rain',\n",
       "    'pressure': 1013.47,\n",
       "    'summary': 'Drizzle',\n",
       "    'temperature': 45.66,\n",
       "    'time': 1389402000,\n",
       "    'uvIndex': 0,\n",
       "    'visibility': 9.997,\n",
       "    'windBearing': 120,\n",
       "    'windGust': 6.43,\n",
       "    'windSpeed': 3.3},\n",
       "   {'apparentTemperature': 45.57,\n",
       "    'cloudCover': 1,\n",
       "    'dewPoint': 41,\n",
       "    'humidity': 0.81,\n",
       "    'icon': 'rain',\n",
       "    'precipIntensity': 0.0199,\n",
       "    'precipProbability': 1,\n",
       "    'precipType': 'rain',\n",
       "    'pressure': 1011.7,\n",
       "    'summary': 'Light Rain',\n",
       "    'temperature': 46.42,\n",
       "    'time': 1389405600,\n",
       "    'uvIndex': 0,\n",
       "    'visibility': 9.997,\n",
       "    'windBearing': 114,\n",
       "    'windGust': 6.68,\n",
       "    'windSpeed': 3.06},\n",
       "   {'apparentTemperature': 45.3,\n",
       "    'cloudCover': 1,\n",
       "    'dewPoint': 41,\n",
       "    'humidity': 0.81,\n",
       "    'icon': 'rain',\n",
       "    'precipIntensity': 0.03,\n",
       "    'precipProbability': 1,\n",
       "    'precipType': 'rain',\n",
       "    'pressure': 1010.13,\n",
       "    'summary': 'Light Rain',\n",
       "    'temperature': 46.42,\n",
       "    'time': 1389409200,\n",
       "    'uvIndex': 0,\n",
       "    'visibility': 9.997,\n",
       "    'windBearing': 140,\n",
       "    'windGust': 7.1,\n",
       "    'windSpeed': 3.34},\n",
       "   {'apparentTemperature': 44.54,\n",
       "    'cloudCover': 1,\n",
       "    'dewPoint': 42.8,\n",
       "    'humidity': 0.87,\n",
       "    'icon': 'rain',\n",
       "    'precipIntensity': 0.0157,\n",
       "    'precipProbability': 0.8,\n",
       "    'precipType': 'rain',\n",
       "    'pressure': 1008.44,\n",
       "    'summary': 'Drizzle',\n",
       "    'temperature': 46.42,\n",
       "    'time': 1389412800,\n",
       "    'uvIndex': 0,\n",
       "    'visibility': 9.997,\n",
       "    'windBearing': 144,\n",
       "    'windGust': 8.16,\n",
       "    'windSpeed': 4.26},\n",
       "   {'apparentTemperature': 44.58,\n",
       "    'cloudCover': 1,\n",
       "    'dewPoint': 42.8,\n",
       "    'humidity': 0.81,\n",
       "    'icon': 'rain',\n",
       "    'precipIntensity': 0.0199,\n",
       "    'precipProbability': 1,\n",
       "    'precipType': 'rain',\n",
       "    'pressure': 1007.4,\n",
       "    'summary': 'Light Rain',\n",
       "    'temperature': 48.22,\n",
       "    'time': 1389416400,\n",
       "    'uvIndex': 0,\n",
       "    'visibility': 9.997,\n",
       "    'windBearing': 140,\n",
       "    'windGust': 8.05,\n",
       "    'windSpeed': 8.05},\n",
       "   {'apparentTemperature': 46.53,\n",
       "    'cloudCover': 1,\n",
       "    'dewPoint': 44.59,\n",
       "    'humidity': 0.87,\n",
       "    'icon': 'rain',\n",
       "    'precipIntensity': 0.01,\n",
       "    'precipProbability': 1,\n",
       "    'precipType': 'rain',\n",
       "    'pressure': 1004.53,\n",
       "    'summary': 'Drizzle',\n",
       "    'temperature': 48.22,\n",
       "    'time': 1389420000,\n",
       "    'uvIndex': 0,\n",
       "    'visibility': 9.997,\n",
       "    'windBearing': 171,\n",
       "    'windGust': 9.74,\n",
       "    'windSpeed': 4.39},\n",
       "   {'apparentTemperature': 51.81,\n",
       "    'cloudCover': 1,\n",
       "    'dewPoint': 46.41,\n",
       "    'humidity': 0.82,\n",
       "    'icon': 'rain',\n",
       "    'precipIntensity': 0.01,\n",
       "    'precipProbability': 1,\n",
       "    'precipType': 'rain',\n",
       "    'pressure': 1002.88,\n",
       "    'summary': 'Drizzle',\n",
       "    'temperature': 51.81,\n",
       "    'time': 1389423600,\n",
       "    'uvIndex': 0,\n",
       "    'visibility': 7.002,\n",
       "    'windBearing': 180,\n",
       "    'windGust': 8.65,\n",
       "    'windSpeed': 6.91}],\n",
       "  'icon': 'rain',\n",
       "  'summary': 'Light rain overnight and in the evening.'},\n",
       " 'latitude': 47.44472,\n",
       " 'longitude': -122.31361,\n",
       " 'offset': -8,\n",
       " 'timezone': 'America/Los_Angeles'}"
      ]
     },
     "execution_count": 292,
     "metadata": {},
     "output_type": "execute_result"
    }
   ],
   "source": [
    "Weather.find_one()"
   ]
  },
  {
   "cell_type": "code",
   "execution_count": null,
   "metadata": {},
   "outputs": [],
   "source": []
  },
  {
   "cell_type": "code",
   "execution_count": 237,
   "metadata": {
    "scrolled": false
   },
   "outputs": [
    {
     "data": {
      "text/plain": [
       "datetime.datetime(2014, 1, 10, 8, 0)"
      ]
     },
     "execution_count": 237,
     "metadata": {},
     "output_type": "execute_result"
    }
   ],
   "source": [
    "datetime.datetime.utcfromtimestamp(1389340800)-datetime.timedelta(hours=8)"
   ]
  },
  {
   "cell_type": "code",
   "execution_count": 93,
   "metadata": {
    "collapsed": true
   },
   "outputs": [],
   "source": [
    "def getprecipitation(Weather):\n",
    "    times = Weather.find({})\n",
    "    info = dict()\n",
    "    for time in times:\n",
    "        for i in range(len(time['hourly']['data'])):\n",
    "            t = time['hourly']['data'][i]['time']\n",
    "            try: \n",
    "                rain = time['hourly']['data'][i]['precipIntensity']\n",
    "            except:\n",
    "                continue\n",
    "            dt = datetime.datetime.utcfromtimestamp(t)-datetime.timedelta(hours=8)\n",
    "            info[dt] = rain\n",
    "    return info"
   ]
  },
  {
   "cell_type": "code",
   "execution_count": 99,
   "metadata": {},
   "outputs": [],
   "source": [
    "rain = getprecipitation(Weather)\n",
    "rainpd = pd.DataFrame.from_dict(rain, orient='index')\n"
   ]
  },
  {
   "cell_type": "code",
   "execution_count": 379,
   "metadata": {},
   "outputs": [],
   "source": [
    "def thirtysixhoursofnorain(df,num):\n",
    "    count = 0\n",
    "    lst = []\n",
    "    for i, index in zip(range(df.size),df.index):\n",
    "        if df.iloc[i,0] == 0:\n",
    "            count += 1\n",
    "        if df.iloc[i,0] != 0:\n",
    "            if count >= num:\n",
    "                lst.append(index)\n",
    "            count = 0\n",
    "    return lst\n",
    "def getrainlist(df,num):\n",
    "    count = 0\n",
    "    lst = []\n",
    "    for i, index in zip(range(df.size),df.index):\n",
    "        if df.iloc[i,0] != 0:\n",
    "            count += 1\n",
    "            if count >= num:\n",
    "                lst.append(index)\n",
    "                count = 0\n",
    "        if df.iloc[i,0] <= 0.01:\n",
    "            count = 0\n",
    "    return lst"
   ]
  },
  {
   "cell_type": "code",
   "execution_count": 206,
   "metadata": {},
   "outputs": [],
   "source": [
    "thirtysixhourlst = thirtysixhoursofnorain(rainpd)\n",
    "twentyfourhourdrylst = twentyfourhourdry(rainpd)"
   ]
  },
  {
   "cell_type": "code",
   "execution_count": 380,
   "metadata": {
    "collapsed": true
   },
   "outputs": [],
   "source": [
    "wetaccidentlst = getrainlist(rainpd,4)"
   ]
  },
  {
   "cell_type": "code",
   "execution_count": 381,
   "metadata": {},
   "outputs": [
    {
     "name": "stdout",
     "output_type": "stream",
     "text": [
      "558\n",
      "271\n"
     ]
    }
   ],
   "source": [
    "print(len(wetaccidentlst))\n",
    "print(len(thirtysixhourlst))"
   ]
  },
  {
   "cell_type": "code",
   "execution_count": 228,
   "metadata": {},
   "outputs": [],
   "source": [
    "seventytwohourlist = thirtysixhoursofnorain(rainpd,72)"
   ]
  },
  {
   "cell_type": "code",
   "execution_count": 235,
   "metadata": {},
   "outputs": [],
   "source": [
    "oneOsixhourlist = thirtysixhoursofnorain(rainpd,106)"
   ]
  },
  {
   "cell_type": "code",
   "execution_count": 310,
   "metadata": {},
   "outputs": [],
   "source": [
    "def getaccidentsdict(df,lst):\n",
    "    diction = dict()    \n",
    "    for i in lst:\n",
    "        accidents = df[(df['INCDTTM'].dt.time != datetime.time(0,0)) & (df['INCDTTM']>= i.to_pydatetime()) & \n",
    "                          (df['INCDTTM']<= i.to_pydatetime()+ datetime.timedelta(hours=1))].loc[:,'INCDTTM'].count()\n",
    "        if accidents > 0:\n",
    "            diction[i.to_pydatetime()] = accidents\n",
    "    return diction\n",
    "def getdrydrivingdict(df,lst):\n",
    "    diction = dict()    \n",
    "    for i in lst:\n",
    "        accidents = df[(df['INCDTTM'].dt.time != datetime.time(0,0)) & (df['INCDTTM']<= i.to_pydatetime() - \n",
    "                                                                        datetime.timedelta(hours=2)) & \n",
    "                       (df['INCDTTM']>= i.to_pydatetime()- datetime.timedelta(hours=3))].loc[:,'INCDTTM'].count()\n",
    "        if accidents > 0:\n",
    "            diction[i.to_pydatetime()] = accidents\n",
    "    return diction\n",
    "def getwetaccidentsdict(df,lst):\n",
    "    diction = dict()    \n",
    "    for i in lst:\n",
    "        accidents = df[(df['INCDTTM'].dt.time != datetime.time(0,0)) & (df['INCDTTM']>= i.to_pydatetime()-datetime.timedelta(hours=1)) & \n",
    "                          (df['INCDTTM']<= i.to_pydatetime())].loc[:,'INCDTTM'].count()\n",
    "        if accidents > 0:\n",
    "            diction[i.to_pydatetime()] = accidents\n",
    "    return diction"
   ]
  },
  {
   "cell_type": "code",
   "execution_count": 300,
   "metadata": {},
   "outputs": [],
   "source": [
    "nightaccidents = file2[(file2['INCDTTM'].dt.time != datetime.time(0,0)) & (file2['INCDTTM'].dt.time >= datetime.time(17,30))]\n",
    "afternoonaccidentsa = file2[(file2['INCDTTM'].dt.time != datetime.time(0,0)) & (file2['INCDTTM'].dt.time <= datetime.time(17,30)) &\n",
    "                      (file2['INCDTTM'].dt.time >= datetime.time(12,0))]"
   ]
  },
  {
   "cell_type": "code",
   "execution_count": 343,
   "metadata": {},
   "outputs": [],
   "source": [
    "#wetaccidentdict = getwetaccidentsdict(file2,wetaccidentlst)"
   ]
  },
  {
   "cell_type": "code",
   "execution_count": 347,
   "metadata": {},
   "outputs": [
    {
     "name": "stdout",
     "output_type": "stream",
     "text": [
      "1073\n",
      "415\n"
     ]
    }
   ],
   "source": [
    "wetfourhours = sum(wetaccidentdict.values())\n",
    "wetfourhoursvalues = wetaccidentdict.values()\n",
    "print(sum(wetaccidentdict.values()))\n",
    "print(len(wetaccidentdict.values()))"
   ]
  },
  {
   "cell_type": "code",
   "execution_count": 304,
   "metadata": {},
   "outputs": [],
   "source": [
    "def getaccidentsperhour(df):\n",
    "    dic=dict()\n",
    "    for i in range(24):\n",
    "        if i == 23:\n",
    "            hourly = df[(df['INCDTTM'].dt.time != datetime.time(0,0)) & (df['INCDTTM'].dt.time >= datetime.time(i,0)) &\n",
    "           (df['INCDTTM'].dt.time <= datetime.time(23,59))].shape[0]\n",
    "            dic[i]=hourly\n",
    "        else:\n",
    "            hourly = df[(df['INCDTTM'].dt.time != datetime.time(0,0)) & (df['INCDTTM'].dt.time >= datetime.time(i,0)) &\n",
    "                        (df['INCDTTM'].dt.time <= datetime.time(i+1,0))].shape[0]\n",
    "            dic[i]=hourly\n",
    "    return dic"
   ]
  },
  {
   "cell_type": "code",
   "execution_count": 306,
   "metadata": {},
   "outputs": [],
   "source": [
    "hourlyaccidents = getaccidentsperhour(file2)"
   ]
  },
  {
   "cell_type": "code",
   "execution_count": 307,
   "metadata": {},
   "outputs": [
    {
     "data": {
      "text/plain": [
       "{0: 4212,\n",
       " 1: 3933,\n",
       " 2: 3879,\n",
       " 3: 1810,\n",
       " 4: 1329,\n",
       " 5: 1914,\n",
       " 6: 3603,\n",
       " 7: 7205,\n",
       " 8: 9189,\n",
       " 9: 8738,\n",
       " 10: 8020,\n",
       " 11: 9320,\n",
       " 12: 11290,\n",
       " 13: 10961,\n",
       " 14: 11446,\n",
       " 15: 12327,\n",
       " 16: 13084,\n",
       " 17: 13837,\n",
       " 18: 10420,\n",
       " 19: 7900,\n",
       " 20: 6677,\n",
       " 21: 6171,\n",
       " 22: 5952,\n",
       " 23: 4564}"
      ]
     },
     "execution_count": 307,
     "metadata": {},
     "output_type": "execute_result"
    }
   ],
   "source": [
    "hourlyaccidents"
   ]
  },
  {
   "cell_type": "code",
   "execution_count": 301,
   "metadata": {},
   "outputs": [
    {
     "data": {
      "text/plain": [
       "61266"
      ]
     },
     "execution_count": 301,
     "metadata": {},
     "output_type": "execute_result"
    }
   ],
   "source": [
    "print(afternoonaccidentsa.shape[0])\n",
    "print(nightaccidents.shape[0])\n",
    "#afterthirtysixhourdry = getaccidentsdict(file2,thirtysixhourlst)"
   ]
  },
  {
   "cell_type": "code",
   "execution_count": 239,
   "metadata": {},
   "outputs": [],
   "source": [
    "#afterthirtysixhourrealdry = getdrydrivingdict(file2,thirtysixhourlst)"
   ]
  },
  {
   "cell_type": "code",
   "execution_count": 232,
   "metadata": {},
   "outputs": [],
   "source": [
    "#afterseventytwohourwet = getaccidentsdict(file2,seventytwohourlist)\n",
    "#aftersevnetytwohourdry = getdrydrivingdict(file2,seventytwohourlist)"
   ]
  },
  {
   "cell_type": "code",
   "execution_count": 233,
   "metadata": {},
   "outputs": [
    {
     "name": "stdout",
     "output_type": "stream",
     "text": [
      "248\n",
      "100\n"
     ]
    }
   ],
   "source": [
    "print(sum(afterseventytwohourwet.values()))\n",
    "print(len(afterseventytwohourwet.values()))"
   ]
  },
  {
   "cell_type": "code",
   "execution_count": 234,
   "metadata": {},
   "outputs": [
    {
     "name": "stdout",
     "output_type": "stream",
     "text": [
      "197\n",
      "96\n"
     ]
    }
   ],
   "source": [
    "print(sum(aftersevnetytwohourdry.values()))\n",
    "print(len(aftersevnetytwohourdry.values()))"
   ]
  },
  {
   "cell_type": "code",
   "execution_count": 287,
   "metadata": {},
   "outputs": [
    {
     "name": "stdout",
     "output_type": "stream",
     "text": [
      "461\n",
      "191\n"
     ]
    }
   ],
   "source": [
    "wetthirtysix = sum(afterthirtysixhourdry.values())\n",
    "wetthirtysixvalues = afterthirtysixhourdry.values()\n",
    "print(sum(afterthirtysixhourdry.values()))\n",
    "print(len(afterthirtysixhourdry.values()))"
   ]
  },
  {
   "cell_type": "code",
   "execution_count": 288,
   "metadata": {},
   "outputs": [
    {
     "name": "stdout",
     "output_type": "stream",
     "text": [
      "348\n",
      "172\n"
     ]
    }
   ],
   "source": [
    "drythirtysix = sum(afterthirtysixhourrealdry.values())\n",
    "drythirtysixvalues = afterthirtysixhourrealdry.values()\n",
    "print(sum(afterthirtysixhourrealdry.values()))\n",
    "print(len(afterthirtysixhourrealdry.values()))\n"
   ]
  },
  {
   "cell_type": "code",
   "execution_count": 249,
   "metadata": {},
   "outputs": [
    {
     "data": {
      "text/plain": [
       "271"
      ]
     },
     "execution_count": 249,
     "metadata": {},
     "output_type": "execute_result"
    }
   ],
   "source": [
    "#afteroneOsixhourwet = getaccidentsdict(file2,oneOsixhourlist)\n",
    "#afteroneOsixhourdry = getdrydrivingdict(file2,oneOsixhourlist)\n",
    "len(thirtysixhourlst)"
   ]
  },
  {
   "cell_type": "code",
   "execution_count": 240,
   "metadata": {},
   "outputs": [
    {
     "name": "stdout",
     "output_type": "stream",
     "text": [
      "171\n",
      "68\n"
     ]
    }
   ],
   "source": [
    "print(sum(afteroneOsixhourwet.values()))\n",
    "print(len(afteroneOsixhourwet.values()))"
   ]
  },
  {
   "cell_type": "code",
   "execution_count": 241,
   "metadata": {},
   "outputs": [
    {
     "name": "stdout",
     "output_type": "stream",
     "text": [
      "136\n",
      "64\n"
     ]
    }
   ],
   "source": [
    "print(sum(afteroneOsixhourdry.values()))\n",
    "print(len(afteroneOsixhourdry.values()))"
   ]
  },
  {
   "cell_type": "code",
   "execution_count": 262,
   "metadata": {},
   "outputs": [],
   "source": [
    "drythirtysixstd = stats.tstd(list(drythirtysixvalues))"
   ]
  },
  {
   "cell_type": "code",
   "execution_count": 263,
   "metadata": {},
   "outputs": [],
   "source": [
    "drythirtysixmean = np.mean(list(drythirtysixvalues))"
   ]
  },
  {
   "cell_type": "code",
   "execution_count": 266,
   "metadata": {},
   "outputs": [],
   "source": [
    "drydist = stats.norm(drythirtysixmean,drythirtysixstd/np.sqrt(len(afterthirtysixhourrealdry.values())))"
   ]
  },
  {
   "cell_type": "code",
   "execution_count": 267,
   "metadata": {},
   "outputs": [],
   "source": [
    "wetthirtysixstd = stats.tstd(list(wetthirtysixvalues))"
   ]
  },
  {
   "cell_type": "code",
   "execution_count": 270,
   "metadata": {},
   "outputs": [
    {
     "data": {
      "text/plain": [
       "2.413612565445026"
      ]
     },
     "execution_count": 270,
     "metadata": {},
     "output_type": "execute_result"
    }
   ],
   "source": [
    "wetthirtysixmean = np.mean(list(wetthirtysixvalues))"
   ]
  },
  {
   "cell_type": "code",
   "execution_count": 273,
   "metadata": {},
   "outputs": [],
   "source": [
    "wetdist = stats.norm(wetthirtysixmean,wetthirtysixstd/np.sqrt(len(afterthirtysixhourrealdry.values())))"
   ]
  },
  {
   "cell_type": "code",
   "execution_count": 274,
   "metadata": {},
   "outputs": [],
   "source": [
    "def welch_satterhwaithe_df(sample_1, sample_2):\n",
    "    ss1 = len(sample_1)\n",
    "    ss2 = len(sample_2)\n",
    "    df = (\n",
    "        ((np.var(sample_1)/ss1 + np.var(sample_2)/ss2)**(2.0)) / \n",
    "        ((np.var(sample_1)/ss1)**(2.0)/(ss1 - 1) + (np.var(sample_2)/ss2)**(2.0)/(ss2 - 1))\n",
    "    )\n",
    "    return df"
   ]
  },
  {
   "cell_type": "code",
   "execution_count": 278,
   "metadata": {
    "collapsed": true
   },
   "outputs": [],
   "source": [
    "def welch_test_statistic(sample_1, sample_2):\n",
    "    numerator = np.mean(sample_1) - np.mean(sample_2)\n",
    "    denominator_sq = (np.var(sample_1) / len(sample_1)) + (np.var(sample_2) / len(sample_2))\n",
    "    return numerator / np.sqrt(denominator_sq)"
   ]
  },
  {
   "cell_type": "code",
   "execution_count": 284,
   "metadata": {},
   "outputs": [
    {
     "data": {
      "text/plain": [
       "-2.5868765678080519"
      ]
     },
     "execution_count": 284,
     "metadata": {},
     "output_type": "execute_result"
    }
   ],
   "source": [
    "df = welch_satterhwaithe_df(list(drythirtysixvalues),list(wetthirtysixvalues))\n",
    "test_stat = welch_test_statistic(list(drythirtysixvalues),list(wetthirtysixvalues))\n",
    "test_stat"
   ]
  },
  {
   "cell_type": "code",
   "execution_count": 285,
   "metadata": {},
   "outputs": [],
   "source": [
    "students = stats.t(df)\n",
    "pvalue = students.cdf(test_stat)"
   ]
  },
  {
   "cell_type": "code",
   "execution_count": 286,
   "metadata": {},
   "outputs": [
    {
     "data": {
      "text/plain": [
       "0.0050423109323042255"
      ]
     },
     "execution_count": 286,
     "metadata": {},
     "output_type": "execute_result"
    }
   ],
   "source": [
    "pvalue"
   ]
  },
  {
   "cell_type": "code",
   "execution_count": 358,
   "metadata": {},
   "outputs": [
    {
     "data": {
      "text/plain": [
       "376.82576899715656"
      ]
     },
     "execution_count": 358,
     "metadata": {},
     "output_type": "execute_result"
    }
   ],
   "source": [
    "df2 = welch_satterhwaithe_df(list(wetfourhoursvalues),list(wetthirtysixvalues))\n",
    "df2"
   ]
  },
  {
   "cell_type": "code",
   "execution_count": 362,
   "metadata": {},
   "outputs": [
    {
     "data": {
      "text/plain": [
       "1.2062688147003426"
      ]
     },
     "execution_count": 362,
     "metadata": {},
     "output_type": "execute_result"
    }
   ],
   "source": [
    "test_stat2 = welch_test_statistic(list(wetfourhoursvalues),list(wetthirtysixvalues))\n",
    "test_stat2"
   ]
  },
  {
   "cell_type": "code",
   "execution_count": 360,
   "metadata": {
    "collapsed": true
   },
   "outputs": [],
   "source": [
    "students2 = stats.t(df2)\n",
    "pvalue2 = 1-students2.cdf(test_stat2)"
   ]
  },
  {
   "cell_type": "code",
   "execution_count": 361,
   "metadata": {},
   "outputs": [
    {
     "data": {
      "text/plain": [
       "0.11423532115012192"
      ]
     },
     "execution_count": 361,
     "metadata": {},
     "output_type": "execute_result"
    }
   ],
   "source": [
    "pvalue2"
   ]
  },
  {
   "cell_type": "code",
   "execution_count": 363,
   "metadata": {},
   "outputs": [
    {
     "data": {
      "text/plain": [
       "419.13416693623492"
      ]
     },
     "execution_count": 363,
     "metadata": {},
     "output_type": "execute_result"
    }
   ],
   "source": [
    "df3 = welch_satterhwaithe_df(list(wetfourhoursvalues),list(drythirtysixvalues))\n",
    "df3"
   ]
  },
  {
   "cell_type": "code",
   "execution_count": 364,
   "metadata": {},
   "outputs": [
    {
     "data": {
      "text/plain": [
       "4.4938394025850457"
      ]
     },
     "execution_count": 364,
     "metadata": {},
     "output_type": "execute_result"
    }
   ],
   "source": [
    "test_stat3 = welch_test_statistic(list(wetfourhoursvalues),list(drythirtysixvalues))\n",
    "test_stat3"
   ]
  },
  {
   "cell_type": "code",
   "execution_count": 369,
   "metadata": {
    "collapsed": true
   },
   "outputs": [],
   "source": [
    "students3 = stats.t(df3)\n",
    "pvalue3 = 1-students3.cdf(test_stat3)"
   ]
  },
  {
   "cell_type": "code",
   "execution_count": 370,
   "metadata": {},
   "outputs": [
    {
     "data": {
      "text/plain": [
       "4.5306634823827352e-06"
      ]
     },
     "execution_count": 370,
     "metadata": {},
     "output_type": "execute_result"
    }
   ],
   "source": [
    "pvalue3"
   ]
  },
  {
   "cell_type": "code",
   "execution_count": 95,
   "metadata": {
    "collapsed": true
   },
   "outputs": [],
   "source": [
    "from pymongo import MongoClient\n",
    "import pprint"
   ]
  },
  {
   "cell_type": "code",
   "execution_count": 96,
   "metadata": {
    "collapsed": true
   },
   "outputs": [],
   "source": [
    "client = MongoClient('localhost', 27017)"
   ]
  },
  {
   "cell_type": "code",
   "execution_count": 97,
   "metadata": {
    "collapsed": true
   },
   "outputs": [],
   "source": [
    "db = client['WeatherDB']"
   ]
  },
  {
   "cell_type": "code",
   "execution_count": 98,
   "metadata": {
    "collapsed": true
   },
   "outputs": [],
   "source": [
    "Weather = db['Weather']"
   ]
  },
  {
   "cell_type": "code",
   "execution_count": 194,
   "metadata": {
    "collapsed": true
   },
   "outputs": [],
   "source": [
    "testcoll = db['testcoll']\n",
    "PrecpIntAndProbHourly = db['PrecpIntAndProbHourly']"
   ]
  },
  {
   "cell_type": "code",
   "execution_count": 186,
   "metadata": {
    "collapsed": true
   },
   "outputs": [],
   "source": []
  },
  {
   "cell_type": "code",
   "execution_count": 187,
   "metadata": {},
   "outputs": [
    {
     "data": {
      "text/plain": [
       "(1, 2)"
      ]
     },
     "execution_count": 187,
     "metadata": {},
     "output_type": "execute_result"
    }
   ],
   "source": []
  },
  {
   "cell_type": "code",
   "execution_count": null,
   "metadata": {
    "collapsed": true
   },
   "outputs": [],
   "source": []
  }
 ],
 "metadata": {
  "kernelspec": {
   "display_name": "Python 3",
   "language": "python",
   "name": "python3"
  },
  "language_info": {
   "codemirror_mode": {
    "name": "ipython",
    "version": 3
   },
   "file_extension": ".py",
   "mimetype": "text/x-python",
   "name": "python",
   "nbconvert_exporter": "python",
   "pygments_lexer": "ipython3",
   "version": "3.6.3"
  }
 },
 "nbformat": 4,
 "nbformat_minor": 2
}
